{
  "nbformat": 4,
  "nbformat_minor": 0,
  "metadata": {
    "colab": {
      "provenance": [],
      "authorship_tag": "ABX9TyOnXSYRM4bIeR7ZwpTvm+JH",
      "include_colab_link": true
    },
    "kernelspec": {
      "name": "python3",
      "display_name": "Python 3"
    },
    "language_info": {
      "name": "python"
    }
  },
  "cells": [
    {
      "cell_type": "markdown",
      "metadata": {
        "id": "view-in-github",
        "colab_type": "text"
      },
      "source": [
        "<a href=\"https://colab.research.google.com/github/FiljohnDelinia/CPE-103-OOP-1-A/blob/main/OOPIntro_Delinia.ipynb\" target=\"_parent\"><img src=\"https://colab.research.google.com/assets/colab-badge.svg\" alt=\"Open In Colab\"/></a>"
      ]
    },
    {
      "cell_type": "markdown",
      "source": [
        "Accounts.py"
      ],
      "metadata": {
        "id": "9C8yKz3YE8Ac"
      }
    },
    {
      "cell_type": "code",
      "execution_count": 49,
      "metadata": {
        "id": "bkcGkSZxCbdu"
      },
      "outputs": [],
      "source": [
        "\"\"\"\n",
        "  Accounts.py\n",
        "\"\"\"\n",
        "\n",
        "class Accounts():\n",
        "    account_number = 0\n",
        "    account_firstname = \"\"\n",
        "    account_lastname = \"\"\n",
        "    current_balance = 0.0\n",
        "    address = \"\"\n",
        "    email = \"\"\n",
        "\n",
        "    def update_address(self, new_address):\n",
        "        self.address = new_address\n",
        "\n",
        "    def update_email(self, new_email):\n",
        "        self.email = new_email"
      ]
    },
    {
      "cell_type": "markdown",
      "source": [
        "ATM.py"
      ],
      "metadata": {
        "id": "A_aU4QqQE-9D"
      }
    },
    {
      "cell_type": "code",
      "source": [
        "\"\"\"\n",
        "    ATM.py\n",
        "\"\"\"\n",
        "\n",
        "class ATM():\n",
        "    serial_number = 0\n",
        "\n",
        "    def deposit(self, account, amount):\n",
        "      account.current_balance = account.current_balance + amount\n",
        "      print(\"Deposit Complete\")\n",
        "\n",
        "    def withdraw(self, account, amount):\n",
        "      account.current_balance = account.current_balance - amount\n",
        "      print(\"Withdraw Complete\")\n",
        "\n",
        "    def check_currentbalance(self, account):\n",
        "      print(account.current_balance)\n"
      ],
      "metadata": {
        "id": "x94yaXasFC7y"
      },
      "execution_count": 50,
      "outputs": []
    },
    {
      "cell_type": "markdown",
      "source": [
        "main.py"
      ],
      "metadata": {
        "id": "mkSXoizoGBAS"
      }
    },
    {
      "cell_type": "code",
      "source": [
        "\"\"\"\n",
        "    main.py\n",
        "\"\"\"\n",
        "\n",
        "Account1 = Accounts()\n",
        "\n",
        "print(\"Account 1\")\n",
        "Account1.account_firstname = \"Royce\"\n",
        "Account1.account_lastname = \"Chua\"\n",
        "Account1.current_balance = 1000\n",
        "Account1.address = \"Silver Street Quezon City\"\n",
        "Account1.email = \"roycechua123@gmail.com\"\n",
        "\n",
        "print(Account1.account_firstname)\n",
        "print(Account1.account_lastname)\n",
        "print(Account1.current_balance)\n",
        "print(Account1.address)\n",
        "print(Account1.email)\n",
        "\n",
        "print()\n",
        "\n",
        "Account2 = Accounts()\n",
        "Account2.account_firstname = \"John\"\n",
        "Account2.account_lastname = \"Doe\"\n",
        "Account2.current_balance = 2000\n",
        "Account2.address = \"Gold Street Quezon City\"\n",
        "Account2.email = \"johndoe123@yahoo.com\"\n",
        "\n",
        "print(\"Account 2\")\n",
        "print(Account2.account_firstname)\n",
        "print(Account2.account_lastname)\n",
        "print(Account2.current_balance)\n",
        "print(Account2.address)\n",
        "print(Account2.email)"
      ],
      "metadata": {
        "colab": {
          "base_uri": "https://localhost:8080/"
        },
        "id": "7KBDM9giGCki",
        "outputId": "e058a87e-9ce2-4c2c-892f-62826539ca7d"
      },
      "execution_count": 51,
      "outputs": [
        {
          "output_type": "stream",
          "name": "stdout",
          "text": [
            "Account 1\n",
            "Royce\n",
            "Chua\n",
            "1000\n",
            "Silver Street Quezon City\n",
            "roycechua123@gmail.com\n",
            "\n",
            "Account 2\n",
            "John\n",
            "Doe\n",
            "2000\n",
            "Gold Street Quezon City\n",
            "johndoe123@yahoo.com\n"
          ]
        }
      ]
    },
    {
      "cell_type": "code",
      "source": [
        "\"\"\"\n",
        "    main.py\n",
        "\"\"\"\n",
        "\n",
        "Account1 = Accounts()\n",
        "\n",
        "print(\"Account 1\")\n",
        "Account1.account_firstname = \"Royce\"\n",
        "Account1.account_lastname = \"Chua\"\n",
        "Account1.current_balance = 1000\n",
        "Account1.address = \"Silver Street Quezon City\"\n",
        "Account1.email = \"roycechua123@gmail.com\"\n",
        "\n",
        "print(Account1.account_firstname)\n",
        "print(Account1.account_lastname)\n",
        "print(Account1.current_balance)\n",
        "print(Account1.address)\n",
        "print(Account1.email)\n",
        "\n",
        "print()\n",
        "\n",
        "Account2 = Accounts()\n",
        "Account2.account_firstname = \"John\"\n",
        "Account2.account_lastname = \"Doe\"\n",
        "Account2.current_balance = 2000\n",
        "Account2.address = \"Gold Street Quezon City\"\n",
        "Account2.email = \"johndoe123@yahoo.com\"\n",
        "\n",
        "print(\"Account 2\")\n",
        "print(Account2.account_firstname)\n",
        "print(Account2.account_lastname)\n",
        "print(Account2.current_balance)\n",
        "print(Account2.address)\n",
        "print(Account2.email)\n",
        "\n",
        "print ()\n",
        "\n",
        "ATM1 = ATM()\n",
        "ATM1.deposit(Account1, 500)\n",
        "ATM1.check_currentbalance(Account1)\n",
        "\n",
        "ATM1.deposit(Account2, 300)\n",
        "ATM1.check_currentbalance(Account2)"
      ],
      "metadata": {
        "colab": {
          "base_uri": "https://localhost:8080/"
        },
        "id": "hV4DEUk4Huia",
        "outputId": "40069fb7-eee8-4ce7-e533-37b977dec26d"
      },
      "execution_count": 52,
      "outputs": [
        {
          "output_type": "stream",
          "name": "stdout",
          "text": [
            "Account 1\n",
            "Royce\n",
            "Chua\n",
            "1000\n",
            "Silver Street Quezon City\n",
            "roycechua123@gmail.com\n",
            "\n",
            "Account 2\n",
            "John\n",
            "Doe\n",
            "2000\n",
            "Gold Street Quezon City\n",
            "johndoe123@yahoo.com\n",
            "\n",
            "Deposit Complete\n",
            "1500\n",
            "Deposit Complete\n",
            "2300\n"
          ]
        }
      ]
    },
    {
      "cell_type": "code",
      "source": [
        "\"\"\"\n",
        "    Accounts.py\n",
        "\"\"\"\n",
        "\n",
        "class Accounts():\n",
        "    def __init__(self, account_number, account_firstname, account_lastname, current_balance, address, email):\n",
        "        self.account_number = account_number\n",
        "        self.account_firstname = account_firstname\n",
        "        self.account_lastname = account_lastname\n",
        "        self.current_balance = current_balance\n",
        "        self.address = address\n",
        "        self.email = email\n",
        "\n",
        "    def update_address(self, new_address):\n",
        "        self.address = new_address\n",
        "\n",
        "    def update_email(self, new_email):\n",
        "        self.email = new_email\n"
      ],
      "metadata": {
        "id": "MC76PjZKRG7V"
      },
      "execution_count": 54,
      "outputs": []
    },
    {
      "cell_type": "markdown",
      "source": [
        "Create the Constructor in each Class"
      ],
      "metadata": {
        "id": "QhVwKaUEKwOr"
      }
    },
    {
      "cell_type": "code",
      "source": [
        "\"\"\"\n",
        "  main.py\n",
        "\"\"\"\n",
        "\n",
        "Account1 = Accounts(account_number=123456, account_firstname=\"Royce\", account_lastname=\"Chua\", current_balance=1000, address=\"Silver Street Quezon City\", email=\"roycechua123@gmail.com\")\n",
        "\n",
        "print(\"Account 1\")\n",
        "print(Account1.account_firstname)\n",
        "print(Account1.account_lastname)\n",
        "print(Account1.current_balance)\n",
        "print(Account1.address)\n",
        "print(Account1.email)\n",
        "\n",
        "print()\n",
        "\n",
        "Account2 = Accounts(account_number=654321,account_firstname=\"John\",account_lastname=\"Doe\",current_balance=2000,address=\"Gold Street Quezon City\",email=\"johndoe@yahoo.com\")\n",
        "\n",
        "print(\"Account 2\")\n",
        "print(Account2.account_firstname)\n",
        "print(Account2.account_lastname)\n",
        "print(Account2.current_balance)\n",
        "print(Account2.address)\n",
        "print(Account2.email)"
      ],
      "metadata": {
        "id": "0uqA3l8bKxHk",
        "colab": {
          "base_uri": "https://localhost:8080/"
        },
        "outputId": "5fbef580-d6f2-4e88-ee93-c8eb3f2d68b0"
      },
      "execution_count": 55,
      "outputs": [
        {
          "output_type": "stream",
          "name": "stdout",
          "text": [
            "Account 1\n",
            "Royce\n",
            "Chua\n",
            "1000\n",
            "Silver Street Quezon City\n",
            "roycechua123@gmail.com\n",
            "\n",
            "Account 2\n",
            "John\n",
            "Doe\n",
            "2000\n",
            "Gold Street Quezon City\n",
            "johndoe@yahoo.com\n"
          ]
        }
      ]
    },
    {
      "cell_type": "markdown",
      "source": [
        "SUPPLEMENTARY ACTIVITY"
      ],
      "metadata": {
        "id": "eeeyBd1PSAGU"
      }
    },
    {
      "cell_type": "code",
      "source": [
        "class ATM():\n",
        "    def __init__(self, serial_number):\n",
        "        self.serial_number = serial_number\n",
        "        self.transactions = []\n",
        "\n",
        "    def deposit(self, account, amount):\n",
        "        account.current_balance += amount\n",
        "        self.transactions.append(f\"Deposit: {amount} to {account.account_firstname} {account.account_lastname}\")\n",
        "        print(\"Deposit Completed:\")\n",
        "\n",
        "    def withdraw(self, account, amount):\n",
        "        account.current_balance -= amount\n",
        "        self.transactions.append(f\"Withdraw: {amount} from {account.account_firstname} {account.account_lastname}\")\n",
        "        print(\"Withdraw Completed\")\n",
        "\n",
        "    def check_currentbalance(self, account):\n",
        "        print(account.current_balance)\n",
        "\n",
        "    def view_transactionsummary(self):\n",
        "        print(\"Transaction Summary:\")\n",
        "        for transaction in self.transactions:\n",
        "            print(transaction)\n",
        "\n",
        "\n",
        "Account1 = Accounts(account_number=123456, account_firstname=\"Royce\", account_lastname=\"Chua\", current_balance=1000, address=\"Silver Street Quezon City\", email=\"roycechua123@gmail.com\")\n",
        "\n",
        "print(\"Account 1\")\n",
        "print(Account1.account_firstname)\n",
        "print(Account1.account_lastname)\n",
        "print(Account1.current_balance)\n",
        "print(Account1.address)\n",
        "print(Account1.email)\n",
        "\n",
        "print()\n",
        "\n",
        "Account2 = Accounts(account_number=654321,account_firstname=\"John\",account_lastname=\"Doe\",current_balance=2000,address=\"Gold Street Quezon City\",email=\"johndoe@yahoo.com\")\n",
        "\n",
        "print(\"Account 2\")\n",
        "print(Account2.account_firstname)\n",
        "print(Account2.account_lastname)\n",
        "print(Account2.current_balance)\n",
        "print(Account2.address)\n",
        "print(Account2.email)\n",
        "\n",
        "print ()\n",
        "\n",
        "ATM1 = ATM(serial_number=2024003)\n",
        "\n",
        "ATM1.deposit(Account1, 500)\n",
        "ATM1.check_currentbalance(Account1)\n",
        "\n",
        "ATM1.deposit(Account2, 300)\n",
        "ATM1.check_currentbalance(Account2)\n",
        "\n",
        "ATM1.view_transactionsummary()\n",
        "\n",
        "print(f\"ATM Serial Number: {ATM1.serial_number}\")\n"
      ],
      "metadata": {
        "colab": {
          "base_uri": "https://localhost:8080/"
        },
        "id": "KmOvau2-UDg1",
        "outputId": "9b1b89a6-c845-43a8-e3d7-3704198e9b76"
      },
      "execution_count": 57,
      "outputs": [
        {
          "output_type": "stream",
          "name": "stdout",
          "text": [
            "Account 1\n",
            "Royce\n",
            "Chua\n",
            "1000\n",
            "Silver Street Quezon City\n",
            "roycechua123@gmail.com\n",
            "\n",
            "Account 2\n",
            "John\n",
            "Doe\n",
            "2000\n",
            "Gold Street Quezon City\n",
            "johndoe@yahoo.com\n",
            "\n",
            "Deposit Completed:\n",
            "1500\n",
            "Deposit Completed:\n",
            "2300\n",
            "Transaction Summary:\n",
            "Deposit: 500 to Royce Chua\n",
            "Deposit: 300 to John Doe\n",
            "ATM Serial Number: 2024003\n"
          ]
        }
      ]
    },
    {
      "cell_type": "markdown",
      "source": [
        "**Questions:**\n",
        "\n",
        "1. What is a class in Object-Oriented Programming?\n",
        "\n",
        "Answer: Object-oriented programming, or OOP for short, is a core style of coding that almost every developer uses at some stage in their career. It's the go-to method for creating software and is often the first thing aspiring programmers learn in their education. While there's another well-liked coding style called functional programming, we'll save that discussion for another time.\n",
        "\n",
        "2.\tWhy do you think classes are being implemented in certain programs while some are sequential(line-by-line)?\n",
        "\n",
        "Answer: Classes help organize and simplify complex programs by breaking them down into manageable pieces that are easy to reuse and maintain. They act like building blocks, each with their own specific tasks and properties.\n",
        "\n",
        "3. How is it that there are variables of the same name such account_firstname and account_lastname that exist but have different values?\n",
        "\n",
        "Answer: Each object created from a class can have the same attribute names, but with different values, allowing each object to store unique data.\n",
        "\n",
        "4. Explain the constructor functions role in initializing the attributes of the class? When does the Constructor function execute or when is the constructor function called?\n",
        "\n",
        "Answer: The constructor function sets up the attributes of a class when a new object is created, making sure everything starts off with the right values. It runs automatically whenever you create a new instance of the class.\n",
        "\n",
        "5. Explain the benefits of using Constructors over initializing the variables one by one in the main program?\n",
        "\n",
        "Answer: Constructors set up the initial attributes for a new object automatically, ensuring everything starts off right. This makes the code simpler, more organized, and easier to maintain. Plus, they handle default values and validation, so you know your objects are good to go from the start.\n"
      ],
      "metadata": {
        "id": "JSNGSzcjprG2"
      }
    },
    {
      "cell_type": "markdown",
      "source": [
        "**Conclusion:**\n",
        "\n",
        "Object-Oriented Programming (OOP) is a popular way of coding that helps developers keep their code clean, organized, and easy to manage. Classes in OOP act like blueprints, breaking down complex tasks into smaller, manageable pieces. Constructors, which are special methods within these classes, automatically set up the initial attributes of an object, ensuring everything starts off correctly.\n",
        "\n",
        "Using constructors simplifies the code and keeps it tidy by centralizing initialization tasks. They also handle default values and validations, ensuring that each object is ready to use right away. All in all, OOP with its classes and constructors makes developing, maintaining, and extending complex software systems much more straightforward and efficient."
      ],
      "metadata": {
        "id": "HmUbcnX1tDz_"
      }
    }
  ]
}