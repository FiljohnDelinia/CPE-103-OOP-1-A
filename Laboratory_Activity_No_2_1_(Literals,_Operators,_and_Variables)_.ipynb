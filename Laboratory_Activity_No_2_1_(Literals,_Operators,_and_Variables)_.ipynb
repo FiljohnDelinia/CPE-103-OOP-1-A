{
  "nbformat": 4,
  "nbformat_minor": 0,
  "metadata": {
    "colab": {
      "provenance": [],
      "authorship_tag": "ABX9TyMr+fyGjorDK4OYClEqUztw",
      "include_colab_link": true
    },
    "kernelspec": {
      "name": "python3",
      "display_name": "Python 3"
    },
    "language_info": {
      "name": "python"
    }
  },
  "cells": [
    {
      "cell_type": "markdown",
      "metadata": {
        "id": "view-in-github",
        "colab_type": "text"
      },
      "source": [
        "<a href=\"https://colab.research.google.com/github/FiljohnDelinia/CPE-103-OOP-1-A/blob/main/Laboratory_Activity_No_2_1_(Literals%2C_Operators%2C_and_Variables)_.ipynb\" target=\"_parent\"><img src=\"https://colab.research.google.com/assets/colab-badge.svg\" alt=\"Open In Colab\"/></a>"
      ]
    },
    {
      "cell_type": "markdown",
      "source": [
        "Assigning variables of different data types in Python"
      ],
      "metadata": {
        "id": "I2PyTsD2-LXN"
      }
    },
    {
      "cell_type": "code",
      "source": [
        "value = 5\n",
        "print(value)\n",
        "type(value)"
      ],
      "metadata": {
        "colab": {
          "base_uri": "https://localhost:8080/"
        },
        "id": "FMG81cOQnW9S",
        "outputId": "6de5bc2d-3d59-4b35-8dff-688c9ac381ab"
      },
      "execution_count": null,
      "outputs": [
        {
          "output_type": "stream",
          "name": "stdout",
          "text": [
            "5\n"
          ]
        },
        {
          "output_type": "execute_result",
          "data": {
            "text/plain": [
              "int"
            ]
          },
          "metadata": {},
          "execution_count": 2
        }
      ]
    },
    {
      "cell_type": "code",
      "source": [
        "value = 5.0\n",
        "print(value)\n",
        "type(value)"
      ],
      "metadata": {
        "colab": {
          "base_uri": "https://localhost:8080/"
        },
        "id": "kGEEZ55XoIvS",
        "outputId": "96b0cca7-d259-47eb-9e12-0e033db306e0"
      },
      "execution_count": null,
      "outputs": [
        {
          "output_type": "stream",
          "name": "stdout",
          "text": [
            "5.0\n"
          ]
        },
        {
          "output_type": "execute_result",
          "data": {
            "text/plain": [
              "float"
            ]
          },
          "metadata": {},
          "execution_count": 3
        }
      ]
    },
    {
      "cell_type": "code",
      "source": [
        "#a\n",
        "value = 2+3j\n",
        "print(value)\n",
        "type(value)"
      ],
      "metadata": {
        "colab": {
          "base_uri": "https://localhost:8080/"
        },
        "id": "mqKSD4pLoMRR",
        "outputId": "d5bbdb9e-c1e6-4afd-baf2-a349eee53a1e"
      },
      "execution_count": null,
      "outputs": [
        {
          "output_type": "stream",
          "name": "stdout",
          "text": [
            "(2+3j)\n"
          ]
        },
        {
          "output_type": "execute_result",
          "data": {
            "text/plain": [
              "complex"
            ]
          },
          "metadata": {},
          "execution_count": 67
        }
      ]
    },
    {
      "cell_type": "code",
      "source": [
        "#b\n",
        "value = 'Hello World'\n",
        "print(value)\n",
        "type(value)"
      ],
      "metadata": {
        "colab": {
          "base_uri": "https://localhost:8080/"
        },
        "id": "x9mD4vNPoTCC",
        "outputId": "09007b6f-4497-418c-a713-a9dbf87af14a"
      },
      "execution_count": null,
      "outputs": [
        {
          "output_type": "stream",
          "name": "stdout",
          "text": [
            "Hello World\n"
          ]
        },
        {
          "output_type": "execute_result",
          "data": {
            "text/plain": [
              "str"
            ]
          },
          "metadata": {},
          "execution_count": 5
        }
      ]
    },
    {
      "cell_type": "code",
      "source": [
        "#c\n",
        "value = \"Hello World\"\n",
        "print(value)\n",
        "type(value)"
      ],
      "metadata": {
        "colab": {
          "base_uri": "https://localhost:8080/"
        },
        "id": "p6XPAEgqoV2S",
        "outputId": "e8a15483-e99c-46ac-8bb6-73478c218cfc"
      },
      "execution_count": null,
      "outputs": [
        {
          "output_type": "stream",
          "name": "stdout",
          "text": [
            "Hello World\n"
          ]
        },
        {
          "output_type": "execute_result",
          "data": {
            "text/plain": [
              "str"
            ]
          },
          "metadata": {},
          "execution_count": 68
        }
      ]
    },
    {
      "cell_type": "code",
      "source": [
        "#c\n",
        "value = True\n",
        "print(value)\n",
        "type(value)"
      ],
      "metadata": {
        "colab": {
          "base_uri": "https://localhost:8080/"
        },
        "id": "WX449mhToYUh",
        "outputId": "8dd69966-42d3-4ef4-b564-3758e1e708ad"
      },
      "execution_count": null,
      "outputs": [
        {
          "output_type": "stream",
          "name": "stdout",
          "text": [
            "True\n"
          ]
        },
        {
          "output_type": "execute_result",
          "data": {
            "text/plain": [
              "bool"
            ]
          },
          "metadata": {},
          "execution_count": 7
        }
      ]
    },
    {
      "cell_type": "code",
      "source": [
        "#d\n",
        "value = False\n",
        "print(value)\n",
        "type(value)"
      ],
      "metadata": {
        "colab": {
          "base_uri": "https://localhost:8080/"
        },
        "id": "9vemgLDzoXyQ",
        "outputId": "9cc65f4d-0475-4b18-f22f-5f9116661f1b"
      },
      "execution_count": null,
      "outputs": [
        {
          "output_type": "stream",
          "name": "stdout",
          "text": [
            "False\n"
          ]
        },
        {
          "output_type": "execute_result",
          "data": {
            "text/plain": [
              "bool"
            ]
          },
          "metadata": {},
          "execution_count": 8
        }
      ]
    },
    {
      "cell_type": "code",
      "source": [
        "#e\n",
        "value = [1,2,3,4,5]\n",
        "print(value)\n",
        "type(value)"
      ],
      "metadata": {
        "colab": {
          "base_uri": "https://localhost:8080/"
        },
        "id": "yp7chVymoW4a",
        "outputId": "d4bb8efa-b29b-4fbf-da9b-4b5b2d3faeb3"
      },
      "execution_count": null,
      "outputs": [
        {
          "output_type": "stream",
          "name": "stdout",
          "text": [
            "[1, 2, 3, 4, 5]\n"
          ]
        },
        {
          "output_type": "execute_result",
          "data": {
            "text/plain": [
              "list"
            ]
          },
          "metadata": {},
          "execution_count": 9
        }
      ]
    },
    {
      "cell_type": "code",
      "source": [
        "#f\n",
        "value = (1, 2, 3, 4, 5)\n",
        "print(value)\n",
        "type(value)"
      ],
      "metadata": {
        "colab": {
          "base_uri": "https://localhost:8080/"
        },
        "id": "wO5B4qdZoWmp",
        "outputId": "92f4b391-f813-4659-8356-0cd97ecb6549"
      },
      "execution_count": null,
      "outputs": [
        {
          "output_type": "stream",
          "name": "stdout",
          "text": [
            "(1, 2, 3, 4, 5)\n"
          ]
        },
        {
          "output_type": "execute_result",
          "data": {
            "text/plain": [
              "tuple"
            ]
          },
          "metadata": {},
          "execution_count": 10
        }
      ]
    },
    {
      "cell_type": "code",
      "source": [
        "#g\n",
        "value = { 'name': 'Filjohn B. Delinia' }\n",
        "print(value)\n",
        "type(value)"
      ],
      "metadata": {
        "colab": {
          "base_uri": "https://localhost:8080/"
        },
        "id": "rwj9xxH6pAdK",
        "outputId": "69b8254a-bc1f-423c-ce74-3b8f2043201c"
      },
      "execution_count": null,
      "outputs": [
        {
          "output_type": "stream",
          "name": "stdout",
          "text": [
            "{'name': 'Filjohn B. Delinia'}\n"
          ]
        },
        {
          "output_type": "execute_result",
          "data": {
            "text/plain": [
              "dict"
            ]
          },
          "metadata": {},
          "execution_count": 15
        }
      ]
    },
    {
      "cell_type": "code",
      "source": [
        "#h\n",
        "value = None\n",
        "print(value)\n",
        "type(value)"
      ],
      "metadata": {
        "colab": {
          "base_uri": "https://localhost:8080/"
        },
        "id": "sYsNBqLfpBgC",
        "outputId": "3d328b66-6a1b-433b-ac75-a63289eeac02"
      },
      "execution_count": null,
      "outputs": [
        {
          "output_type": "stream",
          "name": "stdout",
          "text": [
            "None\n"
          ]
        },
        {
          "output_type": "execute_result",
          "data": {
            "text/plain": [
              "NoneType"
            ]
          },
          "metadata": {},
          "execution_count": 16
        }
      ]
    },
    {
      "cell_type": "code",
      "source": [
        "#i\n",
        "value = 5\n",
        "value2 = -6\n",
        "print(value + value2)"
      ],
      "metadata": {
        "colab": {
          "base_uri": "https://localhost:8080/"
        },
        "id": "e-FTCz6bpxNE",
        "outputId": "88a7151c-1a5b-4a58-f012-8d4485ffe2e4"
      },
      "execution_count": null,
      "outputs": [
        {
          "output_type": "stream",
          "name": "stdout",
          "text": [
            "-1\n"
          ]
        }
      ]
    },
    {
      "cell_type": "markdown",
      "source": [
        "Performing Operations with Python"
      ],
      "metadata": {
        "id": "YbxXDgQN-ym-"
      }
    },
    {
      "cell_type": "code",
      "source": [
        "#a\n",
        "value, value2 = 5.0, 6\n",
        "print(value + value2)"
      ],
      "metadata": {
        "colab": {
          "base_uri": "https://localhost:8080/"
        },
        "id": "jGX9t1xzpwaC",
        "outputId": "9cab7823-f289-4876-c0a4-69dec1edd183"
      },
      "execution_count": null,
      "outputs": [
        {
          "output_type": "stream",
          "name": "stdout",
          "text": [
            "11.0\n"
          ]
        }
      ]
    },
    {
      "cell_type": "code",
      "source": [
        "#b\n",
        "value, value2 = -5, 6.1\n",
        "print(value + value2)"
      ],
      "metadata": {
        "colab": {
          "base_uri": "https://localhost:8080/"
        },
        "id": "AoqP6tH3qZ85",
        "outputId": "3170edb0-c071-405e-9727-af5305a6b85f"
      },
      "execution_count": null,
      "outputs": [
        {
          "output_type": "stream",
          "name": "stdout",
          "text": [
            "1.0999999999999996\n"
          ]
        }
      ]
    },
    {
      "cell_type": "code",
      "source": [
        "#c\n",
        "value, value2 = \"Hello\", ' world'\n",
        "print(value + value2)"
      ],
      "metadata": {
        "colab": {
          "base_uri": "https://localhost:8080/"
        },
        "id": "s5qcMouwqZlx",
        "outputId": "2119ca2e-70c4-494e-d831-451d3cd836de"
      },
      "execution_count": null,
      "outputs": [
        {
          "output_type": "stream",
          "name": "stdout",
          "text": [
            "Hello world\n"
          ]
        }
      ]
    },
    {
      "cell_type": "code",
      "source": [
        "#d\n",
        "value, value2 = [1,2,3], [4,5,6]\n",
        "print(value + value2)"
      ],
      "metadata": {
        "colab": {
          "base_uri": "https://localhost:8080/"
        },
        "id": "QlTqeawzqZbR",
        "outputId": "63a1b6a6-5a1d-4253-ba25-6ec96c2f7a6e"
      },
      "execution_count": null,
      "outputs": [
        {
          "output_type": "stream",
          "name": "stdout",
          "text": [
            "[1, 2, 3, 4, 5, 6]\n"
          ]
        }
      ]
    },
    {
      "cell_type": "code",
      "source": [
        "#e\n",
        "value, value2 = (1,2,3), (4,5,6)\n",
        "print(value + value2)"
      ],
      "metadata": {
        "colab": {
          "base_uri": "https://localhost:8080/"
        },
        "id": "aAmqSMpOqZQq",
        "outputId": "55e31984-a5d6-401d-f2bf-9ef86a1fdd25"
      },
      "execution_count": null,
      "outputs": [
        {
          "output_type": "stream",
          "name": "stdout",
          "text": [
            "(1, 2, 3, 4, 5, 6)\n"
          ]
        }
      ]
    },
    {
      "cell_type": "code",
      "source": [
        "#f\n",
        "value, value2 = {\"name\": \"Royce\"}, {\"age\": 2}\n",
        "name_age = {**value, **value2}\n",
        "print(name_age)"
      ],
      "metadata": {
        "colab": {
          "base_uri": "https://localhost:8080/"
        },
        "id": "QhaiCKBpqZF6",
        "outputId": "35fcf876-1eb1-4de6-f1f1-f898843cf18a"
      },
      "execution_count": 70,
      "outputs": [
        {
          "output_type": "stream",
          "name": "stdout",
          "text": [
            "{'name': 'Royce', 'age': 2}\n"
          ]
        }
      ]
    },
    {
      "cell_type": "markdown",
      "source": [
        "3."
      ],
      "metadata": {
        "id": "C11Co9CusVRr"
      }
    },
    {
      "cell_type": "code",
      "source": [
        "#a\n",
        "value, value2 = 30, 4\n",
        "print(value*value2)"
      ],
      "metadata": {
        "colab": {
          "base_uri": "https://localhost:8080/"
        },
        "id": "m_zMFW-wsXGi",
        "outputId": "42d08249-00a2-4a97-d3ad-d1cead24e6d4"
      },
      "execution_count": null,
      "outputs": [
        {
          "output_type": "stream",
          "name": "stdout",
          "text": [
            "120\n"
          ]
        }
      ]
    },
    {
      "cell_type": "code",
      "source": [
        "#b\n",
        "value, value2 = 30, 4\n",
        "print(value2**2)"
      ],
      "metadata": {
        "colab": {
          "base_uri": "https://localhost:8080/"
        },
        "id": "ZjEcnihksrlS",
        "outputId": "d001c0e1-33ac-4469-b37a-c38271bdbc02"
      },
      "execution_count": null,
      "outputs": [
        {
          "output_type": "stream",
          "name": "stdout",
          "text": [
            "16\n"
          ]
        }
      ]
    },
    {
      "cell_type": "code",
      "source": [
        "#c\n",
        "value, value2 = 30, 4\n",
        "print(value2**3)"
      ],
      "metadata": {
        "colab": {
          "base_uri": "https://localhost:8080/"
        },
        "id": "DoApUzL4sreJ",
        "outputId": "0b9d6499-0e37-488e-9f29-d3c880be11b2"
      },
      "execution_count": null,
      "outputs": [
        {
          "output_type": "stream",
          "name": "stdout",
          "text": [
            "64\n"
          ]
        }
      ]
    },
    {
      "cell_type": "code",
      "source": [
        "#d\n",
        "value, value2 = 30, 4\n",
        "print(value*value2+value2**2+1)"
      ],
      "metadata": {
        "colab": {
          "base_uri": "https://localhost:8080/"
        },
        "id": "8SUSIg9DsrRq",
        "outputId": "98ec06b6-43ee-40bd-f64a-52a37c1ab9d3"
      },
      "execution_count": null,
      "outputs": [
        {
          "output_type": "stream",
          "name": "stdout",
          "text": [
            "137\n"
          ]
        }
      ]
    },
    {
      "cell_type": "code",
      "source": [
        "#e\n",
        "value, value2 = 30, 4\n",
        "print(value/value2)"
      ],
      "metadata": {
        "colab": {
          "base_uri": "https://localhost:8080/"
        },
        "id": "TvvUe70JsqzR",
        "outputId": "c3149a7f-5611-4572-b18c-f45b61b909c5"
      },
      "execution_count": null,
      "outputs": [
        {
          "output_type": "stream",
          "name": "stdout",
          "text": [
            "7.5\n"
          ]
        }
      ]
    },
    {
      "cell_type": "code",
      "source": [
        "#f\n",
        "value, value2 = 30, 4\n",
        "print(value%value2)"
      ],
      "metadata": {
        "colab": {
          "base_uri": "https://localhost:8080/"
        },
        "id": "rtZ3uOncs88S",
        "outputId": "35bb02eb-564f-4525-aa4d-54836a9afb3b"
      },
      "execution_count": null,
      "outputs": [
        {
          "output_type": "stream",
          "name": "stdout",
          "text": [
            "2\n"
          ]
        }
      ]
    },
    {
      "cell_type": "markdown",
      "source": [
        "Assigning Input Data to a Variable\n",
        "\n"
      ],
      "metadata": {
        "id": "oOyO71kltZAM"
      }
    },
    {
      "cell_type": "code",
      "source": [
        "#Finding a person’s BMI (metric)\n",
        "\n",
        "name = input(\"Enter your name: \")\n",
        "weight = float(input(\"Enter your weight in (kg): \"))\n",
        "height = float (input(\"Enter your height in meters (m): \"))\n",
        "bmi = weight/(height)**2\n",
        "print(\"BMI:\", bmi)"
      ],
      "metadata": {
        "colab": {
          "base_uri": "https://localhost:8080/"
        },
        "id": "9TOljkG-tbBA",
        "outputId": "157b6042-ef60-4ac6-b1c7-4f253a1ae2e2"
      },
      "execution_count": null,
      "outputs": [
        {
          "output_type": "stream",
          "name": "stdout",
          "text": [
            "Enter your name: John Ray\n",
            "Enter your weight in (kg): 60\n",
            "Enter your height in meters (m): 1.6764\n",
            "BMI: 21.349904958763087\n"
          ]
        }
      ]
    },
    {
      "cell_type": "markdown",
      "source": [
        "Supplementary Activity"
      ],
      "metadata": {
        "id": "gQsssRHLv4VG"
      }
    },
    {
      "cell_type": "code",
      "source": [
        "#1.\tWrite the Python equivalent code of the following C code:\n",
        "\n",
        "base = float(input(\"Enter the base of the triangle: \"))\n",
        "height = float(input(\"Enter the height of the triangle: \"))\n",
        "area = (base*height)/2\n",
        "print(\"The area of the triangle is:\",area)"
      ],
      "metadata": {
        "colab": {
          "base_uri": "https://localhost:8080/"
        },
        "id": "EXrMDxmUwAaG",
        "outputId": "3a305793-d5ba-4e85-c79b-3972e4d8a0ef"
      },
      "execution_count": null,
      "outputs": [
        {
          "output_type": "stream",
          "name": "stdout",
          "text": [
            "Enter the base of the triangle: 5\n",
            "Enter the height of the triangle: 5\n",
            "The area of the triangle is: 12.5\n"
          ]
        }
      ]
    },
    {
      "cell_type": "code",
      "source": [
        "#2.\tWrite a program that would convert Celsius to Fahrenheit given the formula: F = (C × 9/5) + 32 Example of conversion:\n",
        "\n",
        "celsius = float(input(\"Enter the temperature in Celsius: \"))\n",
        "fahrenheit = (celsius*9/5)+32\n",
        "print(\"The temperature in Fahrenheit is:\",fahrenheit, \"degrees\")"
      ],
      "metadata": {
        "colab": {
          "base_uri": "https://localhost:8080/"
        },
        "id": "EmG-PIAiyIw0",
        "outputId": "11d3f0c5-e4d1-4978-8ee6-ac574b890498"
      },
      "execution_count": null,
      "outputs": [
        {
          "output_type": "stream",
          "name": "stdout",
          "text": [
            "Enter the temperature in Celsius: -20\n",
            "The temperature in Fahrenheit is: -4.0 degrees\n"
          ]
        }
      ]
    },
    {
      "cell_type": "markdown",
      "source": [],
      "metadata": {
        "id": "TYB4d4xPzfL6"
      }
    },
    {
      "cell_type": "code",
      "source": [
        "#3.\tWrite a program that can determine the distance between two points given the coordinates using the formula:\n",
        "\n",
        "x1 = float(input(\"Enter the x-coordinate of the first point: \"))\n",
        "y1 = float(input(\"Enter the y-coordinate of the first point: \"))\n",
        "x2 = float(input(\"Enter the x-coordinate of the second point: \"))\n",
        "y2 = float(input(\"Enter the y-coordinate of the second point: \"))\n",
        "\n",
        "distance = ((x2 - x1)**2 + (y2 - y1)**2)**0.5\n",
        "print(\"The distance between the two points is:\", distance)"
      ],
      "metadata": {
        "colab": {
          "base_uri": "https://localhost:8080/"
        },
        "id": "BRXb0yXF0aRF",
        "outputId": "b8bb2517-a5c8-44f1-acfa-9db3f7111498"
      },
      "execution_count": null,
      "outputs": [
        {
          "output_type": "stream",
          "name": "stdout",
          "text": [
            "Enter the x-coordinate of the first point: 2\n",
            "Enter the y-coordinate of the first point: 2\n",
            "Enter the x-coordinate of the second point: -3\n",
            "Enter the y-coordinate of the second point: 3\n",
            "The distance between the two points is: 5.0990195135927845\n"
          ]
        }
      ]
    }
  ]
}