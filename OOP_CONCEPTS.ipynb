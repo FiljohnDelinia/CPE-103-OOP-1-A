{
  "nbformat": 4,
  "nbformat_minor": 0,
  "metadata": {
    "colab": {
      "provenance": [],
      "authorship_tag": "ABX9TyO5gnC/dCTx35JwM6xZyu8c",
      "include_colab_link": true
    },
    "kernelspec": {
      "name": "python3",
      "display_name": "Python 3"
    },
    "language_info": {
      "name": "python"
    }
  },
  "cells": [
    {
      "cell_type": "markdown",
      "metadata": {
        "id": "view-in-github",
        "colab_type": "text"
      },
      "source": [
        "<a href=\"https://colab.research.google.com/github/FiljohnDelinia/CPE-103-OOP-1-A/blob/main/OOP_CONCEPTS.ipynb\" target=\"_parent\"><img src=\"https://colab.research.google.com/assets/colab-badge.svg\" alt=\"Open In Colab\"/></a>"
      ]
    },
    {
      "cell_type": "markdown",
      "source": [
        "Class Constructor"
      ],
      "metadata": {
        "id": "z_od-YBl7zvk"
      }
    },
    {
      "cell_type": "code",
      "source": [
        "class Car:\n",
        "  def __init__(self, name, color):\n",
        "    self.name = name        #attributes\n",
        "    self.color = color"
      ],
      "metadata": {
        "id": "pno4NO7D8TIw"
      },
      "execution_count": 3,
      "outputs": []
    },
    {
      "cell_type": "markdown",
      "source": [
        "Class Methods"
      ],
      "metadata": {
        "id": "icPaYzxM9iVK"
      }
    },
    {
      "cell_type": "code",
      "source": [
        "class Car:\n",
        "  car_type = \"Sedan\"\n",
        "\n",
        "  def __init__(self,name,mileage):\n",
        "    self.name = name\n",
        "    self.mileage = mileage\n",
        "\n",
        "  def description(self):\n",
        "    return f\"The {self.name} car gives the mileage of {self.mileage}km/l\"\n",
        "\n",
        "  def max_speed(self,speed):\n",
        "    return \"The {self.name} runs at the maximum speed of {speed}km/hr\"\n",
        "\n",
        ""
      ],
      "metadata": {
        "id": "xLfENbN89k9q"
      },
      "execution_count": 6,
      "outputs": []
    },
    {
      "cell_type": "markdown",
      "source": [
        "Multiple Objects with the same class"
      ],
      "metadata": {
        "id": "CulRGk4u_OY6"
      }
    },
    {
      "cell_type": "code",
      "source": [
        "class Car:      #parent class\n",
        "\n",
        "  def __init__(self,name,mileage):\n",
        "    self.name = name\n",
        "    self.mileage = mileage\n",
        "\n",
        "  def description(self):\n",
        "    return f\"The {self.name} car gives the mileage of {self.mileage}km/l\"\n",
        "\n",
        "class BMW(Car): #child class\n",
        "  pass\n",
        "\n",
        "class Audi(Car): #child class\n",
        "  def audi_desc(self):\n",
        "      return \"This is the description method of class Audi\"\n",
        "\n",
        "bmw = BMW(\"BMW 7-series\", 39.53)\n",
        "print(bmw.description())\n",
        "\n",
        "audi = Audi(\"Audi A8-L\", 14)\n",
        "print(audi.audi_desc())"
      ],
      "metadata": {
        "colab": {
          "base_uri": "https://localhost:8080/"
        },
        "id": "PyezQE3l_TZZ",
        "outputId": "24e7922f-642c-40ab-80e2-7269f693433f"
      },
      "execution_count": 15,
      "outputs": [
        {
          "output_type": "stream",
          "name": "stdout",
          "text": [
            "The BMW 7-series car gives the mileage of 39.53km/l\n",
            "This is the description method of class Audi\n"
          ]
        }
      ]
    },
    {
      "cell_type": "markdown",
      "source": [
        "Apply the OOP concept like class, constructor, methods, inheritance to describe the sides of shapes (e.g. Triangle, Square, Rectangle)"
      ],
      "metadata": {
        "id": "saGXQGjBESNC"
      }
    },
    {
      "cell_type": "code",
      "source": [
        "class Shapes:\n",
        "\n",
        "  def __init__(self, name, sides):\n",
        "    self.name = name\n",
        "    self.sides = sides\n",
        "\n",
        "  def description(self):\n",
        "    return f\"The {self.name} has {self.sides} sides\"\n",
        "\n",
        "\n",
        "class Triangle(Shapes):\n",
        "  pass\n",
        "class Square(Shapes):\n",
        "  pass\n",
        "class Rectangle(Shapes):\n",
        "  pass\n",
        "\n",
        "  tri = Triangle(\"Triangle\", 3)\n",
        "  print(tri.description())\n",
        "\n",
        "  squ = Square(\"Square\", 4)\n",
        "  print(squ.description())\n",
        "\n",
        "  rec = Rectangle(\"Rectangle\", 4)\n",
        "  print(rec.description())"
      ],
      "metadata": {
        "colab": {
          "base_uri": "https://localhost:8080/"
        },
        "id": "q55pkt2yEmdL",
        "outputId": "efd39e21-a09b-4449-b096-1af2d0dfa46c"
      },
      "execution_count": 28,
      "outputs": [
        {
          "output_type": "stream",
          "name": "stdout",
          "text": [
            "The Triangle has 3 sides\n",
            "The Square has 4 sides\n",
            "The Rectangle has 4 sides\n"
          ]
        }
      ]
    }
  ]
}