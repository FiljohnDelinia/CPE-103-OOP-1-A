{
  "nbformat": 4,
  "nbformat_minor": 0,
  "metadata": {
    "colab": {
      "provenance": [],
      "authorship_tag": "ABX9TyPQ/IXojNNI6r9w6Ohe5aU0",
      "include_colab_link": true
    },
    "kernelspec": {
      "name": "python3",
      "display_name": "Python 3"
    },
    "language_info": {
      "name": "python"
    }
  },
  "cells": [
    {
      "cell_type": "markdown",
      "metadata": {
        "id": "view-in-github",
        "colab_type": "text"
      },
      "source": [
        "<a href=\"https://colab.research.google.com/github/FiljohnDelinia/CPE-103-OOP-1-A/blob/main/Laboratory_Activity_No_4.ipynb\" target=\"_parent\"><img src=\"https://colab.research.google.com/assets/colab-badge.svg\" alt=\"Open In Colab\"/></a>"
      ]
    },
    {
      "cell_type": "markdown",
      "source": [
        "**LISTS**"
      ],
      "metadata": {
        "id": "4d1XA_WwFHBw"
      }
    },
    {
      "cell_type": "code",
      "execution_count": null,
      "metadata": {
        "colab": {
          "base_uri": "https://localhost:8080/"
        },
        "id": "fhB-dKDvE9np",
        "outputId": "43d9918a-5a52-41a3-ea27-89f9efa1b5cc"
      },
      "outputs": [
        {
          "output_type": "stream",
          "name": "stdout",
          "text": [
            "5\n"
          ]
        }
      ],
      "source": [
        "numberlist=[5,4,2,1,3]\n",
        "\n",
        "\n",
        "print (len(numberlist))"
      ]
    },
    {
      "cell_type": "code",
      "source": [
        "\n",
        "print(numberlist[0])\n",
        "\n",
        "print(numberlist[1])\n",
        "\n",
        "print(numberlist[2])\n",
        "\n",
        "print(numberlist[3])\n",
        "\n",
        "print(numberlist[4])\n",
        "\n",
        "print(numberlist[-1])\n",
        "\n",
        "print(numberlist[-2])\n",
        "\n",
        "print(numberlist[-3])\n",
        "\n",
        "print(numberlist[-4])\n",
        "\n",
        "print(numberlist[-5])"
      ],
      "metadata": {
        "colab": {
          "base_uri": "https://localhost:8080/"
        },
        "id": "AHOgpBZeGaZp",
        "outputId": "8e76a815-c872-4a4f-8e41-7ef242eb0479"
      },
      "execution_count": null,
      "outputs": [
        {
          "output_type": "stream",
          "name": "stdout",
          "text": [
            "5\n",
            "4\n",
            "2\n",
            "1\n",
            "3\n",
            "3\n",
            "1\n",
            "2\n",
            "4\n",
            "5\n"
          ]
        }
      ]
    },
    {
      "cell_type": "code",
      "source": [
        "\n",
        "print(numberlist[5])\n",
        "\n",
        "print(numberlist[-6])"
      ],
      "metadata": {
        "id": "Nb8ej_OFHez5"
      },
      "execution_count": null,
      "outputs": []
    },
    {
      "cell_type": "markdown",
      "source": [
        "**OBSERVATION:**\n",
        "\n",
        "THE FOLLOWING CODE DEMONSTRATES HOW TO USE BOTH POSITIVE AND NEGATIVE INDEXING TO RETRIEVE ELEMENTS IN A LIST CALLED VARLIST. VALID POSITIVE INDICES FOR VARLISTS WITH FIVE MEMBERS FALL BETWEEN 0 AND 4, WHILE VALID NEGATIVE INDICES FALL BETWEEN -1 AND -5. THIS CODE HIGHLIGHTS A CRUCIAL IDEA IN LIST INDEXING: AN INDEXERROR: LIST INDEX OUT OF RANGE WILL APPEAR IF AN INDEX IS ACCESSED OUTSIDE OF THE VALID RANGE. THIS ERROR WILL SPECIFICALLY OCCUR WHEN ATTEMPTING TO ACCESS VARLIST[5] OR VARLIST[-6], AS THESE INDICES BEYOND THE PERMITTED LIMITS. THE CODE BASICALLY SHOWS HOW TO USE INDEXING CORRECTLY TO FETCH ELEMENTS FROM A LIST WHILE EMPHASIZING HOW IMPORTANT IT IS TO KEEP INSIDE THE VALID INDEX RANGE IN ORDER TO AVOID PROBLEMS."
      ],
      "metadata": {
        "id": "Gj9JpYPOGzd5"
      }
    },
    {
      "cell_type": "code",
      "source": [
        "itemlist=[1,-2.0,[1,2,3],\"Word\"]\n",
        "\n",
        "print (len(itemlist))\n",
        "print (itemlist [0])\n",
        "print (itemlist [1])\n",
        "print (itemlist [2])\n",
        "print (itemlist [3])\n",
        "print (len(itemlist[2]))\n",
        "print (itemlist [2][0])\n",
        "print (itemlist [2][1])\n",
        "print (itemlist [2][2])\n",
        "print (itemlist [-1])\n",
        "print (itemlist [-2])\n",
        "print (itemlist [-3])\n",
        "print (itemlist [-4])\n",
        "print (len(itemlist[-2]))\n",
        "print (itemlist[-2][0])\n",
        "print (itemlist[-2][1])\n",
        "print (itemlist[-2][2])\n",
        "print (itemlist[-2][-3])\n",
        "print (itemlist[-2][-2])\n",
        "print (itemlist[-2][-1])\n"
      ],
      "metadata": {
        "colab": {
          "base_uri": "https://localhost:8080/"
        },
        "id": "jx57GkgwIRcK",
        "outputId": "a25ea4b8-83cd-4c78-bbf8-93c050ef9252"
      },
      "execution_count": null,
      "outputs": [
        {
          "output_type": "stream",
          "name": "stdout",
          "text": [
            "4\n",
            "1\n",
            "-2.0\n",
            "[1, 2, 3]\n",
            "Word\n",
            "3\n",
            "1\n",
            "2\n",
            "3\n",
            "Word\n",
            "[1, 2, 3]\n",
            "-2.0\n",
            "1\n",
            "3\n",
            "1\n",
            "2\n",
            "3\n",
            "1\n",
            "2\n",
            "3\n"
          ]
        }
      ]
    },
    {
      "cell_type": "markdown",
      "source": [
        "**OBSERVATION:**\n",
        "\n",
        "THE LEN() FUNCTION GIVES YOU THE NUMBER OF ITEMS IN A LIST, WHETHER IT'S THE MAIN LIST OR ANY SUB-LISTS WITHIN IT. IT FUNCTIONS SIMILARLY TO A FAST HEADCOUNT. MAKING SURE YOU DON'T CROSS ANY LINES WHEN ACCESSING ITEMS IS A GREAT USE FOR IT."
      ],
      "metadata": {
        "id": "Y5BAEilQL6Hh"
      }
    },
    {
      "cell_type": "markdown",
      "source": [
        "**INDEX SLICING**"
      ],
      "metadata": {
        "id": "go4RhOwAMTuk"
      }
    },
    {
      "cell_type": "code",
      "source": [
        "longlist = numberlist + itemlist\n",
        "\n",
        "print(len(longlist))\n",
        "print(longlist[:])\n",
        "print(longlist[:9])\n",
        "print(longlist[0:])\n",
        "print(longlist[1:])\n",
        "print(longlist[2:])"
      ],
      "metadata": {
        "colab": {
          "base_uri": "https://localhost:8080/"
        },
        "id": "LYSTEpoLMXcE",
        "outputId": "1dc22846-e643-469c-c23d-516f2628e684"
      },
      "execution_count": null,
      "outputs": [
        {
          "output_type": "stream",
          "name": "stdout",
          "text": [
            "9\n",
            "[5, 4, 2, 1, 3, 1, -2.0, [1, 2, 3], 'Word']\n",
            "[5, 4, 2, 1, 3, 1, -2.0, [1, 2, 3], 'Word']\n",
            "[5, 4, 2, 1, 3, 1, -2.0, [1, 2, 3], 'Word']\n",
            "[4, 2, 1, 3, 1, -2.0, [1, 2, 3], 'Word']\n",
            "[2, 1, 3, 1, -2.0, [1, 2, 3], 'Word']\n"
          ]
        }
      ]
    },
    {
      "cell_type": "code",
      "source": [
        "#Index Slicing with Range\n",
        "\n",
        "print(longlist[2:5])\n",
        "print(longlist[5:2])\n",
        "print(longlist[8:])\n",
        "print(longlist[9:])"
      ],
      "metadata": {
        "colab": {
          "base_uri": "https://localhost:8080/"
        },
        "id": "cUW2Y94-NDXS",
        "outputId": "c2e7e428-54b6-416e-8aa9-eb282aa4e4f9"
      },
      "execution_count": null,
      "outputs": [
        {
          "output_type": "stream",
          "name": "stdout",
          "text": [
            "[2, 1, 3]\n",
            "[]\n",
            "['Word']\n",
            "[]\n"
          ]
        }
      ]
    },
    {
      "cell_type": "code",
      "source": [
        "#Index Slicing using Negative Indices\n",
        "\n",
        "print(longlist[-9:])\n",
        "print(longlist[-8:])\n",
        "print(longlist[-8:-7])\n",
        "print(longlist[-1:])\n"
      ],
      "metadata": {
        "colab": {
          "base_uri": "https://localhost:8080/"
        },
        "id": "Jx895D-xNNbg",
        "outputId": "9b06cf16-3072-4d52-9514-5289dc0849de"
      },
      "execution_count": null,
      "outputs": [
        {
          "output_type": "stream",
          "name": "stdout",
          "text": [
            "[5, 4, 2, 1, 3, 1, -2.0, [1, 2, 3], 'Word']\n",
            "[4, 2, 1, 3, 1, -2.0, [1, 2, 3], 'Word']\n",
            "[4]\n",
            "['Word']\n"
          ]
        }
      ]
    },
    {
      "cell_type": "code",
      "source": [
        "#Other properties of Index Slicing\n",
        "\n",
        "print(longlist[10:20])\n",
        "print(longlist[-7:5])"
      ],
      "metadata": {
        "colab": {
          "base_uri": "https://localhost:8080/"
        },
        "id": "KVAqbOhQNYRY",
        "outputId": "72013da9-7446-4975-be0d-086f0eb9c09b"
      },
      "execution_count": null,
      "outputs": [
        {
          "output_type": "stream",
          "name": "stdout",
          "text": [
            "[]\n",
            "[2, 1, 3]\n"
          ]
        }
      ]
    },
    {
      "cell_type": "code",
      "source": [
        "#Index Slicing with Step parameter\n",
        "\n",
        "print(longlist[::1])\n",
        "print(longlist[::2])\n",
        "print(longlist[1:8:2])\n",
        "print(longlist[9:1:-1])\n",
        "print(longlist[-1::1])\n",
        "print(longlist[-1::-1])"
      ],
      "metadata": {
        "colab": {
          "base_uri": "https://localhost:8080/"
        },
        "id": "Ojk57LoBNldK",
        "outputId": "3c4f80ff-ca55-4599-ec93-9263838ed510"
      },
      "execution_count": null,
      "outputs": [
        {
          "output_type": "stream",
          "name": "stdout",
          "text": [
            "[5, 4, 2, 1, 3, 1, -2.0, [1, 2, 3], 'Word']\n",
            "[5, 2, 3, -2.0, 'Word']\n",
            "[4, 1, 1, [1, 2, 3]]\n",
            "['Word', [1, 2, 3], -2.0, 1, 3, 1, 2]\n",
            "['Word']\n",
            "['Word', [1, 2, 3], -2.0, 1, 3, 1, 2, 4, 5]\n"
          ]
        }
      ]
    },
    {
      "cell_type": "markdown",
      "source": [
        "**OBSERVATION:**\n",
        "\n",
        "PYTHON'S INDEX SLICING PROVIDES A FLEXIBLE METHOD FOR ACCESSING AND WORKING WITH SUBSEQUENCES OF SEQUENCES, INCLUDING LISTS, TUPLES, AND STRINGS. THE START INDEX IS INCLUDED AND THE END INDEX IS EXCLUDED IN THE SLICING SYNTAX [START:END]. THE START OR FINISH OF THE SEQUENCE IS USED BY DEFAULT WHEN EITHER IS LEFT OUT. A STEP ARGUMENT [START:END:STEP] CAN BE SUPPLIED TO CHOOSE ELEMENTS AT PREDETERMINED INTERVALS OR EVEN REVERSE THE SEQUENCE, AND NEGATIVE INDICES ENABLE SLICING FROM THE END OF THE SEQUENCE. SLICES OUTSIDE OF SEQUENCE BOUNDS RETURN THE CORRECT RANGE WITHOUT GENERATING ERRORS, WHILE INVALID RANGES RETURN EMPTY LISTS. ALL THINGS CONSIDERED, INDEX SLICING IS A USEFUL TECHNIQUE FOR HANDLING SEGMENTS OF SEQUENCES.\n"
      ],
      "metadata": {
        "id": "umNf_CuhPMpL"
      }
    },
    {
      "cell_type": "markdown",
      "source": [
        "**LIST METHODS AND THE MUTABLE PROPERTY OF LISTS**"
      ],
      "metadata": {
        "id": "gzNB5zVFRz7C"
      }
    },
    {
      "cell_type": "code",
      "source": [
        "numberlist2 = numberlist"
      ],
      "metadata": {
        "id": "CUUPlhbxQ285"
      },
      "execution_count": null,
      "outputs": []
    },
    {
      "cell_type": "code",
      "source": [
        "print (numberlist)\n",
        "print (numberlist2)"
      ],
      "metadata": {
        "colab": {
          "base_uri": "https://localhost:8080/"
        },
        "id": "srAY1xKqQ7Ip",
        "outputId": "7ad1f0c1-4985-49c0-a7a5-ae41aafd7e69"
      },
      "execution_count": null,
      "outputs": [
        {
          "output_type": "stream",
          "name": "stdout",
          "text": [
            "[5, 4, 2, 1, 3]\n",
            "[5, 4, 2, 1, 3]\n"
          ]
        }
      ]
    },
    {
      "cell_type": "code",
      "source": [
        "numberlist[0]=6\n",
        "print (numberlist)\n",
        "print (numberlist2)"
      ],
      "metadata": {
        "colab": {
          "base_uri": "https://localhost:8080/"
        },
        "id": "aarUOyYYRKlZ",
        "outputId": "9041ad84-d4df-4e6d-b0c2-085a69eee687"
      },
      "execution_count": null,
      "outputs": [
        {
          "output_type": "stream",
          "name": "stdout",
          "text": [
            "[6, 4, 2, 1, 3]\n",
            "[6, 4, 2, 1, 3]\n"
          ]
        }
      ]
    },
    {
      "cell_type": "code",
      "source": [
        "numberlist2 = numberlist.copy()\n",
        "print (numberlist2)\n",
        "numberlist[0]=5\n",
        "print (numberlist)\n",
        "print (numberlist2)"
      ],
      "metadata": {
        "colab": {
          "base_uri": "https://localhost:8080/"
        },
        "id": "0fpizIf8RVki",
        "outputId": "986faf62-e466-4f16-afdd-1d004ccf21bf"
      },
      "execution_count": null,
      "outputs": [
        {
          "output_type": "stream",
          "name": "stdout",
          "text": [
            "[6, 4, 2, 1, 3]\n",
            "[5, 4, 2, 1, 3]\n",
            "[6, 4, 2, 1, 3]\n"
          ]
        }
      ]
    },
    {
      "cell_type": "markdown",
      "source": [
        "**OBSERVATION:**\n",
        "\n",
        "WHEN WORKING WITH SEGMENTS OF SEQUENCES, SUCH AS LISTS, TUPLES, AND STRINGS, INDEX SLICING IS A USEFUL METHOD. THE SLICING FORMAT [START:END] ALLOWS YOU TO CHOOSE ELEMENTS FROM THE START INDEX ALL THE WAY UP TO THE END INDEX, BUT NOT BEYOND. PYTHON THINKS THAT IF YOU DON'T SPECIFY A START OR END, YOU MEAN FROM THE BEGINNING OR UP TO THE FINISH. THE STEP PARAMETER [START:END:STEP] ENABLES MORE EXACT SELECTIONS, LIKE PICKING EVERY OTHER ELEMENT OR REVERSING THE SEQUENCE, AND NEGATIVE INDICES CAN BE USED TO ACCESS ELEMENTS FROM THE END OF THE SEQUENCE. SLICES THAT EXTEND BEYOND THE LIMITS OF THE SEQUENCE DELIVER VALID ELEMENTS WITHOUT PROBLEMS, WHILE INVALID RANGES PRODUCE EMPTY LISTS. ACCESSING AND MODIFYING SUBSEQUENCES IN YOUR CODE IS MADE EFFICIENT BY INDEX SLICING.\n"
      ],
      "metadata": {
        "id": "7lmwunDwUNJ-"
      }
    },
    {
      "cell_type": "markdown",
      "source": [
        "**EXPLPORING SOME LIST FUNCTIONS AND METHODS**"
      ],
      "metadata": {
        "id": "oo_Xph9bSZvy"
      }
    },
    {
      "cell_type": "markdown",
      "source": [],
      "metadata": {
        "id": "Nro0GRVAUReP"
      }
    },
    {
      "cell_type": "code",
      "source": [
        "print (numberlist)\n",
        "\n",
        "numberlist.append(6)\n",
        "print (numberlist)\n",
        "\n",
        "numberlist.pop()\n",
        "print (numberlist)\n",
        "\n",
        "numberlist.sort()\n",
        "print (numberlist)\n",
        "\n",
        "print (longlist)\n",
        "\n",
        "print (longlist.count(1))\n",
        "\n",
        "print (longlist[7].count(1))"
      ],
      "metadata": {
        "colab": {
          "base_uri": "https://localhost:8080/"
        },
        "id": "IONE2AGQSk0R",
        "outputId": "8d26ba97-e6f1-4119-9924-5610a5cdbe45"
      },
      "execution_count": null,
      "outputs": [
        {
          "output_type": "stream",
          "name": "stdout",
          "text": [
            "[1, 2, 3, 4, 5, 6]\n",
            "[1, 2, 3, 4, 5, 6, 6]\n",
            "[1, 2, 3, 4, 5, 6]\n",
            "[1, 2, 3, 4, 5, 6]\n",
            "[5, 4, 2, 1, 3, 1, -2.0, [1, 2, 3], 'Word']\n",
            "2\n",
            "1\n"
          ]
        }
      ]
    },
    {
      "cell_type": "code",
      "source": [
        "#error\n",
        "itemlist.sort()\n",
        "print (min(numberlist))\n",
        "print (max(numnberlist))"
      ],
      "metadata": {
        "id": "6MYmHCi_TgPQ"
      },
      "execution_count": null,
      "outputs": []
    },
    {
      "cell_type": "markdown",
      "source": [
        "**THE IN OPERATOR**"
      ],
      "metadata": {
        "id": "65Yj21AFU0MZ"
      }
    },
    {
      "source": [
        "print (3 in longlist)\n",
        "print (15 in longlist)\n",
        "\n",
        "num= int(input(\"Enter a number:\"))\n",
        "if num in longlist:\n",
        "    print(\"The number is in longlist\")\n",
        "else:\n",
        "    print(\"The number is not in longlist\")"
      ],
      "cell_type": "code",
      "metadata": {
        "colab": {
          "base_uri": "https://localhost:8080/"
        },
        "id": "5K7_sfwvVoZ6",
        "outputId": "22015f95-de88-4657-cc6a-29197187fce9"
      },
      "execution_count": null,
      "outputs": [
        {
          "output_type": "stream",
          "name": "stdout",
          "text": [
            "True\n",
            "False\n",
            "Enter a number:5\n",
            "The number is in longlist\n"
          ]
        }
      ]
    },
    {
      "cell_type": "markdown",
      "source": [
        "**OBSERVATION**\n",
        "\n",
        "THE `IN` OPERATOR CHECKS IF AN ELEMENT EXISTS IN A LIST, TUPLE, STRING, OR DICTIONARY KEYS, RETURNING `TRUE` OR `FALSE`. IT IS USEFUL IN CONDITIONAL STATEMENTS AND DYNAMIC USER INPUT VALIDATION. WHILE EFFICIENT IN DICTIONARIES AND SETS, IT MAY BE SLOWER IN LISTS AND TUPLES DUE TO LINEAR SEARCHING. ADDITIONALLY, IT CAN CHECK FOR SUBSTRINGS IN STRINGS. OVERALL, THE `IN` OPERATOR IS A POWERFUL TOOL FOR SEARCHING, VALIDATION, AND CONDITIONAL LOGIC IN PYTHON."
      ],
      "metadata": {
        "id": "yN0FAvte3HDO"
      }
    },
    {
      "cell_type": "markdown",
      "source": [
        "**USING A LIST IN AN ITERATIVE STATEMENT**"
      ],
      "metadata": {
        "id": "3pjm09O4V8ja"
      }
    },
    {
      "cell_type": "code",
      "source": [
        "for item in longlist:\n",
        "  print (item)"
      ],
      "metadata": {
        "colab": {
          "base_uri": "https://localhost:8080/"
        },
        "id": "t68_I4htWFCa",
        "outputId": "d096a4ea-0d10-468b-9a60-03eef4dcae8e"
      },
      "execution_count": null,
      "outputs": [
        {
          "output_type": "stream",
          "name": "stdout",
          "text": [
            "5\n",
            "4\n",
            "2\n",
            "1\n",
            "3\n",
            "1\n",
            "-2.0\n",
            "[1, 2, 3]\n",
            "Word\n"
          ]
        }
      ]
    },
    {
      "cell_type": "code",
      "source": [
        "i=0\n",
        "while i<len(longlist):\n",
        "  print(longlist[i])\n",
        "  i+=1"
      ],
      "metadata": {
        "colab": {
          "base_uri": "https://localhost:8080/"
        },
        "id": "fTRiDqu0WOdh",
        "outputId": "a690c058-15d4-48c2-c714-f79474550094"
      },
      "execution_count": null,
      "outputs": [
        {
          "output_type": "stream",
          "name": "stdout",
          "text": [
            "5\n",
            "4\n",
            "2\n",
            "1\n",
            "3\n",
            "1\n",
            "-2.0\n",
            "[1, 2, 3]\n",
            "Word\n"
          ]
        }
      ]
    },
    {
      "cell_type": "markdown",
      "source": [
        "**STRINGS**"
      ],
      "metadata": {
        "id": "zt8bIRb7WdDS"
      }
    },
    {
      "cell_type": "code",
      "source": [
        "message = \"Hello World\"\n",
        "print (message)\n",
        "print (len(message))\n",
        "\n",
        "print(message[0])\n",
        "print(message[1])\n",
        "print(message[2])\n",
        "print(message[3])\n",
        "print(message[4])\n",
        "\n",
        "print(message[-11])\n",
        "print(message[-10])\n",
        "print(message[-9])\n",
        "print(message[-8])\n",
        "print(message[-7])"
      ],
      "metadata": {
        "colab": {
          "base_uri": "https://localhost:8080/"
        },
        "id": "MseXaax3WhWK",
        "outputId": "a30d1282-5e23-4215-d613-bf702a04573e"
      },
      "execution_count": null,
      "outputs": [
        {
          "output_type": "stream",
          "name": "stdout",
          "text": [
            "Hello World\n",
            "11\n",
            "H\n",
            "e\n",
            "l\n",
            "l\n",
            "o\n",
            "H\n",
            "e\n",
            "l\n",
            "l\n",
            "o\n"
          ]
        }
      ]
    },
    {
      "cell_type": "markdown",
      "source": [
        "**STRING METHODS**\n"
      ],
      "metadata": {
        "id": "mgtrd_vwXpEr"
      }
    },
    {
      "cell_type": "code",
      "source": [
        "print (message.upper())\n",
        "print (message.lower())\n",
        "print (message.title())\n",
        "print (\"Value 1 is {}, and value 2 is {}\".format(-1, True))\n",
        "print (message.split(' '))\n",
        "print (message.upper())\n",
        "print (message.lower())\n",
        "print (message.title())\n",
        "print (\"Value 1 is {}, and value 2 is {}\".format(-1, True))\n",
        "print (message.split(' '))\n",
        "print (message.count('I'))\n",
        "print (message.replace('World','CPE009'))\n",
        "message = message.replace('World','CPE009')\n",
        "print (message)"
      ],
      "metadata": {
        "colab": {
          "base_uri": "https://localhost:8080/"
        },
        "id": "1F52VppdX0zC",
        "outputId": "44201f86-cf97-4dbb-c10f-626f4b5ff5da"
      },
      "execution_count": null,
      "outputs": [
        {
          "output_type": "stream",
          "name": "stdout",
          "text": [
            "HELLO CPE009\n",
            "hello cpe009\n",
            "Hello Cpe009\n",
            "Value 1 is -1, and value 2 is True\n",
            "['Hello', 'CPE009']\n",
            "HELLO CPE009\n",
            "hello cpe009\n",
            "Hello Cpe009\n",
            "Value 1 is -1, and value 2 is True\n",
            "['Hello', 'CPE009']\n",
            "0\n",
            "Hello CPE009\n",
            "Hello CPE009\n"
          ]
        }
      ]
    },
    {
      "cell_type": "code",
      "source": [
        "help(\"\")"
      ],
      "metadata": {
        "id": "LMAWQCfzaQnx"
      },
      "execution_count": null,
      "outputs": []
    },
    {
      "cell_type": "markdown",
      "source": [
        "**THE IN OPERATOR FOR STRINGS**"
      ],
      "metadata": {
        "id": "9wCwuoozaT1i"
      }
    },
    {
      "cell_type": "code",
      "source": [
        "print ('W'in message)\n",
        "print ('old'in message)\n",
        "\n",
        "word=input(\"Enter a word:\")\n",
        "if word in \"The big brown fox jump over the lazy dog\":\n",
        "    print(\"The word is in text\")\n",
        "else:\n",
        "    print(\"The word is not in text\")\n",
        "    print(\"The word is not in text\")"
      ],
      "metadata": {
        "colab": {
          "base_uri": "https://localhost:8080/"
        },
        "id": "bixo9Hh-aaei",
        "outputId": "014f23b1-4377-4e71-8b76-f0d576b93448"
      },
      "execution_count": null,
      "outputs": [
        {
          "output_type": "stream",
          "name": "stdout",
          "text": [
            "False\n",
            "False\n",
            "Enter a word:hello\n",
            "The word is not in text\n",
            "The word is not in text\n"
          ]
        }
      ]
    },
    {
      "cell_type": "markdown",
      "source": [
        "**USING A STRING IN AN ITERATIVE STATEMENT**"
      ],
      "metadata": {
        "id": "8MOOyo1mcTO7"
      }
    },
    {
      "cell_type": "code",
      "source": [
        "for character in message:\n",
        "        print(character)"
      ],
      "metadata": {
        "colab": {
          "base_uri": "https://localhost:8080/"
        },
        "id": "INSDURxycYly",
        "outputId": "5ad25890-d428-45d6-e4ad-dde5803665fc"
      },
      "execution_count": null,
      "outputs": [
        {
          "output_type": "stream",
          "name": "stdout",
          "text": [
            "H\n",
            "e\n",
            "l\n",
            "l\n",
            "o\n",
            " \n",
            "C\n",
            "P\n",
            "E\n",
            "0\n",
            "0\n",
            "9\n"
          ]
        }
      ]
    },
    {
      "cell_type": "code",
      "source": [
        "i=0\n",
        "while i<len(message):\n",
        "  print(message[i])\n",
        "  i+=1"
      ],
      "metadata": {
        "colab": {
          "base_uri": "https://localhost:8080/"
        },
        "id": "RIJdF-fjcgKx",
        "outputId": "d3ede212-44e0-4250-a410-ec015f1dc24c"
      },
      "execution_count": null,
      "outputs": [
        {
          "output_type": "stream",
          "name": "stdout",
          "text": [
            "H\n",
            "e\n",
            "l\n",
            "l\n",
            "o\n",
            " \n",
            "C\n",
            "P\n",
            "E\n",
            "0\n",
            "0\n",
            "9\n"
          ]
        }
      ]
    },
    {
      "cell_type": "markdown",
      "source": [
        "**TUPLES**"
      ],
      "metadata": {
        "id": "pdGnfCD8cs5p"
      }
    },
    {
      "cell_type": "code",
      "source": [
        "tuplelist = (1,2,3,4,5)\n",
        "\n",
        "print(numberlist[0])\n",
        "print(numberlist[1])\n",
        "print(numberlist[2])\n",
        "print(numberlist[3])\n",
        "print(numberlist[4])\n",
        "print(numberlist[5])\n"
      ],
      "metadata": {
        "colab": {
          "base_uri": "https://localhost:8080/"
        },
        "id": "1BqkxgyvcwFw",
        "outputId": "00aa946e-c354-432c-cea9-9a9933bf1e37"
      },
      "execution_count": null,
      "outputs": [
        {
          "output_type": "stream",
          "name": "stdout",
          "text": [
            "1\n",
            "2\n",
            "3\n",
            "4\n",
            "5\n",
            "6\n"
          ]
        }
      ]
    },
    {
      "cell_type": "code",
      "source": [
        "print(tuplelist + (1, 2, 3))"
      ],
      "metadata": {
        "colab": {
          "base_uri": "https://localhost:8080/"
        },
        "id": "V5r2dBwMdYAa",
        "outputId": "9f506702-d479-4b1e-d8f3-a6ecf808cd71"
      },
      "execution_count": null,
      "outputs": [
        {
          "output_type": "stream",
          "name": "stdout",
          "text": [
            "(1, 2, 3, 4, 5, 1, 2, 3)\n"
          ]
        }
      ]
    },
    {
      "cell_type": "code",
      "source": [
        "#'tuple' object does not support item assignment\n",
        "tuplelist[0] = 15"
      ],
      "metadata": {
        "id": "s6zwyC8ueO1V"
      },
      "execution_count": null,
      "outputs": []
    },
    {
      "cell_type": "code",
      "source": [
        "print(tuplelist[1:4])\n",
        "print(tuplelist[:3])\n",
        "print(tuplelist[3:])"
      ],
      "metadata": {
        "colab": {
          "base_uri": "https://localhost:8080/"
        },
        "id": "hPtj87QneQ47",
        "outputId": "a99d1688-1106-4375-d6d3-02037101b071"
      },
      "execution_count": null,
      "outputs": [
        {
          "output_type": "stream",
          "name": "stdout",
          "text": [
            "(2, 3, 4)\n",
            "(1, 2, 3)\n",
            "(4, 5)\n"
          ]
        }
      ]
    },
    {
      "cell_type": "code",
      "source": [
        "for num in tuplelist:\n",
        "    print(num)"
      ],
      "metadata": {
        "colab": {
          "base_uri": "https://localhost:8080/"
        },
        "id": "pFTGcFQ-eaxa",
        "outputId": "a308dcf1-aa79-4a45-a079-cf407dd1e98e"
      },
      "execution_count": null,
      "outputs": [
        {
          "output_type": "stream",
          "name": "stdout",
          "text": [
            "1\n",
            "2\n",
            "3\n",
            "4\n",
            "5\n"
          ]
        }
      ]
    },
    {
      "cell_type": "markdown",
      "source": [
        "**DICTIONARIES**"
      ],
      "metadata": {
        "id": "_TQOf-4TesEK"
      }
    },
    {
      "source": [
        "contactinfo={'id':1, 'first_name': 'John', 'last_name':'Doe', 'contact_numnber':'09060611233'}\n",
        "\n",
        "print(contactinfo['id'])\n",
        "print(contactinfo['first_name'])\n",
        "print(contactinfo['last_name'])\n",
        "print(contactinfo['contact_numnber'])\n",
        "print(contactinfo.get('age'))"
      ],
      "cell_type": "code",
      "metadata": {
        "colab": {
          "base_uri": "https://localhost:8080/"
        },
        "id": "VS5F8fTQf8c7",
        "outputId": "6b178fc1-4164-4c10-ca4d-f02c92904999"
      },
      "execution_count": null,
      "outputs": [
        {
          "output_type": "stream",
          "name": "stdout",
          "text": [
            "1\n",
            "John\n",
            "Doe\n",
            "09060611233\n",
            "None\n"
          ]
        }
      ]
    },
    {
      "source": [
        "for k in contactinfo:\n",
        "  print(k)\n",
        "\n",
        "for k,v in contactinfo.items():\n",
        "  print(k,v)\n",
        "\n",
        "contactinfo['id']=2\n",
        "contactinfo['first_name']='Max'\n",
        "\n",
        "print (contactinfo)"
      ],
      "cell_type": "code",
      "metadata": {
        "colab": {
          "base_uri": "https://localhost:8080/"
        },
        "id": "4gKMy0EagMoE",
        "outputId": "ce46e239-9b5e-40d2-e1bc-7f9cf250b2e0"
      },
      "execution_count": null,
      "outputs": [
        {
          "output_type": "stream",
          "name": "stdout",
          "text": [
            "id\n",
            "first_name\n",
            "last_name\n",
            "contact_numnber\n",
            "id 2\n",
            "first_name Max\n",
            "last_name Doe\n",
            "contact_numnber 09060611233\n",
            "{'id': 2, 'first_name': 'Max', 'last_name': 'Doe', 'contact_numnber': '09060611233'}\n"
          ]
        }
      ]
    },
    {
      "cell_type": "markdown",
      "source": [
        "**SUPPLEMENTARY ACTIVITY**"
      ],
      "metadata": {
        "id": "AurnbTtXg8uy"
      }
    },
    {
      "source": [
        "#DISTANCE FORMULA\n",
        "\n",
        "import math\n",
        "\n",
        "coordinates_list = [(1, 1), (2, 3)]\n",
        "(x1, y1), (x2, y2) = coordinates_list\n",
        "distance = math.sqrt((x2 - x1)**2 + (y2 - y1)**2)\n",
        "\n",
        "print(f\"The distance between {coordinates_list[0]} and {coordinates_list[1]} is: {distance:.2f}\")"
      ],
      "cell_type": "code",
      "metadata": {
        "colab": {
          "base_uri": "https://localhost:8080/"
        },
        "id": "OuNKxknBhykk",
        "outputId": "d4478198-07d5-4d15-eb7e-0cc4fdd4e4cc"
      },
      "execution_count": 16,
      "outputs": [
        {
          "output_type": "stream",
          "name": "stdout",
          "text": [
            "The distance between (1, 1) and (2, 3) is: 2.24\n"
          ]
        }
      ]
    },
    {
      "cell_type": "code",
      "source": [
        "#SIMPLE WORD FILTER\n",
        "\n",
        "input_string = input(\"Enter a string: \")\n",
        "output_string = input_string.replace(\"stupid\", \"******\")\n",
        "print(\"Filtered string:\", output_string)\n"
      ],
      "metadata": {
        "id": "-onDtCSZh6Rb",
        "colab": {
          "base_uri": "https://localhost:8080/"
        },
        "outputId": "3e363807-5c1e-44de-ed7a-90596771d207"
      },
      "execution_count": 12,
      "outputs": [
        {
          "output_type": "stream",
          "name": "stdout",
          "text": [
            "Enter a string: stupid\n",
            "Filtered string: ******\n"
          ]
        }
      ]
    },
    {
      "cell_type": "code",
      "source": [
        "#PHONEBOOK\n",
        "\n",
        "phonebook = [{\"id\": 111, \"name\": \"Filjohn\", \"contact\": \"0999-177-3876\", \"address\": \"Phase 9 Bagong Silang\"}, {\"id\": 222, \"name\": \"Maloi\", \"contact\": \"0961-334-1113\", \"address\": \"Block 68 Spain St.\"}, {\"id\": 333, \"name\": \"Jennie\", \"contact\": \"0988-545-1143\", \"address\": \"Block 45 Turkey St.\"},{\"id\": 444, \"name\": \"Mikha\", \"contact\": \"0943-535-1343\", \"address\": \"Block 12 Japan St.\"},{\"id\": 555, \"name\": \"Lisa\", \"contact\": \"0932-774-0009\", \"address\": \"Block 12 Korea St.\"}]\n",
        "\n",
        "id = int(input(\"Enter the ID of the contact: \"))\n",
        "\n",
        "for contact in phonebook:\n",
        "    if contact[\"id\"] == id:\n",
        "        print(f\"Name: {contact['name']}\")\n",
        "        print(f\"Contact: {contact['contact']}\")\n",
        "        print(f\"Address: {contact['address']}\")\n",
        "        break\n",
        "\n",
        "else:\n",
        "    print(f\"No contact found with ID {id}.\")"
      ],
      "metadata": {
        "colab": {
          "base_uri": "https://localhost:8080/"
        },
        "id": "AKtLskO7kIyG",
        "outputId": "d596f844-cf0b-4afc-c670-4916ef0cab8a"
      },
      "execution_count": 19,
      "outputs": [
        {
          "output_type": "stream",
          "name": "stdout",
          "text": [
            "Enter the ID of the contact: 222\n",
            "Name: Maloi\n",
            "Contact: 0961-334-1113\n",
            "Address: Block 68 Spain St.\n"
          ]
        }
      ]
    },
    {
      "cell_type": "markdown",
      "source": [
        "**CONCLUSION**\n",
        "\n",
        "In summary, understanding lists, tuples, strings, and dictionaries is key to managing and organizing data effectively in Python. Lists offer flexibility for dynamic data, tuples provide stability for fixed values, strings handle text effortlessly, and dictionaries enable fast and efficient lookups. Tools like the replace() method further enhance our ability to manipulate and process text with ease. By mastering these foundational concepts, we can write cleaner, more efficient programs that handle data seamlessly, making our coding experience both productive and enjoyable."
      ],
      "metadata": {
        "id": "rbIgRbtw46SP"
      }
    }
  ]
}