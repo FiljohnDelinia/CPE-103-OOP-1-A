{
  "nbformat": 4,
  "nbformat_minor": 0,
  "metadata": {
    "colab": {
      "provenance": [],
      "authorship_tag": "ABX9TyPwAlCfDeaYKNClPZY1FMuE",
      "include_colab_link": true
    },
    "kernelspec": {
      "name": "python3",
      "display_name": "Python 3"
    },
    "language_info": {
      "name": "python"
    }
  },
  "cells": [
    {
      "cell_type": "markdown",
      "metadata": {
        "id": "view-in-github",
        "colab_type": "text"
      },
      "source": [
        "<a href=\"https://colab.research.google.com/github/FiljohnDelinia/CPE-103-OOP-1-A/blob/main/OUTPUT_LONGQUIZ1.ipynb\" target=\"_parent\"><img src=\"https://colab.research.google.com/assets/colab-badge.svg\" alt=\"Open In Colab\"/></a>"
      ]
    },
    {
      "cell_type": "markdown",
      "source": [
        "runfile('C:/Users/ucc_e/.spyder-py3/temp.py', wdir='C:/Users/ucc_e/.spyder-py3')\n",
        "Student's Information #1\n",
        "\n",
        "Enter Student's Name: Ana\n",
        "Enter Student's ID: 111\n",
        "Enter Student's Program: BSCPE\n",
        "Student's Sex: Female\n",
        "Enter Student's weight(in kg): 55\n",
        "Enter Student's height(in cm): 155\n",
        "Enroll in CPE103? (yes/no): yes\n",
        "Successfully enrolled in CPE103.\n",
        "\n",
        "Enter Midterm Hands-on Seatwork grade: 90\n",
        "Enter Midterm Quiz grade: 96\n",
        "Enter Midterm Assignment grade: 93\n",
        "Midterm CS is:  92.4\n",
        "Enter Midterm Exam grade: 95\n",
        "Midterm Grade is:  93.70\n",
        "\n",
        "Enter Finals Hands-on Seatwork grade: 94\n",
        "Enter Finals Quiz grade: 88\n",
        "Enter Finals Assignment grade: 85\n",
        "Finals CS is:  90.4\n",
        "Enter Finals Exam grade: 94\n",
        "Finals Grade is:  92.20\n",
        "UCC Numerical Grade:  1.5\n",
        "\n",
        "runfile('C:/Users/ucc_e/.spyder-py3/temp.py', wdir='C:/Users/ucc_e/.spyder-py3')\n",
        "Student's Information #2\n",
        "\n",
        "Enter Student's Name: Mench\n",
        "Enter Student's ID: 222\n",
        "Enter Student's Program: BSCPE\n",
        "Student's Sex: Male\n",
        "Enter Student's weight(in kg): 67\n",
        "Enter Student's height(in cm): 176\n",
        "Enroll in CPE103? (yes/no): yes\n",
        "Successfully enrolled in CPE103.\n",
        "\n",
        "Enter Midterm Hands-on Seatwork grade: 98\n",
        "Enter Midterm Quiz grade: 89\n",
        "Enter Midterm Assignment grade: 87\n",
        "Midterm CS is:  93.10000000000001\n",
        "Enter Midterm Exam grade: 90\n",
        "Midterm Grade is:  91.55\n",
        "\n",
        "Enter Finals Hands-on Seatwork grade: 89\n",
        "Enter Finals Quiz grade: 92\n",
        "Enter Finals Assignment grade: 94\n",
        "Finals CS is:  90.89999999999999\n",
        "Enter Finals Exam grade: 96\n",
        "Finals Grade is:  93.45\n",
        "UCC Numerical Grade:  1.5\n",
        "\n",
        "runfile('C:/Users/ucc_e/.spyder-py3/temp.py', wdir='C:/Users/ucc_e/.spyder-py3')\n",
        "Student's Information #3\n",
        "\n",
        "Enter Student's Name: John\n",
        "Enter Student's ID: 333\n",
        "Enter Student's Program: BSCPE\n",
        "Student's Sex: Male\n",
        "Enter Student's weight(in kg): 56\n",
        "Enter Student's height(in cm): 188\n",
        "Enroll in CPE103? (yes/no): yes\n",
        "Successfully enrolled in CPE103.\n",
        "\n",
        "Enter Midterm Hands-on Seatwork grade: 87\n",
        "Enter Midterm Quiz grade: 80\n",
        "Enter Midterm Assignment grade: 86\n",
        "Midterm CS is:  84.7\n",
        "Enter Midterm Exam grade: 80\n",
        "Midterm Grade is:  82.35\n",
        "\n",
        "Enter Finals Hands-on Seatwork grade: 90\n",
        "Enter Finals Quiz grade: 99\n",
        "Enter Finals Assignment grade: 98\n",
        "Finals CS is:  94.30000000000001\n",
        "Enter Finals Exam grade: 97\n",
        "Finals Grade is:  95.65\n",
        "UCC Numerical Grade:  1.25"
      ],
      "metadata": {
        "id": "7Tt4WP7aGUia"
      }
    }
  ]
}