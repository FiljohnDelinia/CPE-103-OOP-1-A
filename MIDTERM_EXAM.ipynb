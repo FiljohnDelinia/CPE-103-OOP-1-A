{
  "nbformat": 4,
  "nbformat_minor": 0,
  "metadata": {
    "colab": {
      "provenance": [],
      "authorship_tag": "ABX9TyPZIeaAwaCnGaZzit90g2Pr",
      "include_colab_link": true
    },
    "kernelspec": {
      "name": "python3",
      "display_name": "Python 3"
    },
    "language_info": {
      "name": "python"
    }
  },
  "cells": [
    {
      "cell_type": "markdown",
      "metadata": {
        "id": "view-in-github",
        "colab_type": "text"
      },
      "source": [
        "<a href=\"https://colab.research.google.com/github/FiljohnDelinia/CPE-103-OOP-1-A/blob/main/MIDTERM_EXAM.ipynb\" target=\"_parent\"><img src=\"https://colab.research.google.com/assets/colab-badge.svg\" alt=\"Open In Colab\"/></a>"
      ]
    },
    {
      "cell_type": "code",
      "execution_count": 1,
      "metadata": {
        "colab": {
          "base_uri": "https://localhost:8080/"
        },
        "id": "vFdYpS-LPZTL",
        "outputId": "6607b09f-85bc-4156-cb0a-62cddad75d0f"
      },
      "outputs": [
        {
          "output_type": "stream",
          "name": "stdout",
          "text": [
            "1\n",
            "2\n"
          ]
        }
      ],
      "source": [
        "#1-10 Answer:B\n",
        "\n",
        "i=1\n",
        "while True:\n",
        "    if i%3 == 0:\n",
        "        break\n",
        "    print(i)\n",
        "\n",
        "    i+=1"
      ]
    },
    {
      "cell_type": "code",
      "source": [
        "#11-20 Answer:A\n",
        "\n",
        "i=0\n",
        "while i<5:\n",
        "  print(i)\n",
        "  i += 1\n",
        "  if i == 3:\n",
        "      break\n",
        "else:\n",
        "  print(0)"
      ],
      "metadata": {
        "colab": {
          "base_uri": "https://localhost:8080/"
        },
        "id": "48Idem4IUBpA",
        "outputId": "cd63db05-bfcc-4935-b18e-f31681c35531"
      },
      "execution_count": 2,
      "outputs": [
        {
          "output_type": "stream",
          "name": "stdout",
          "text": [
            "0\n",
            "1\n",
            "2\n"
          ]
        }
      ]
    },
    {
      "cell_type": "code",
      "source": [
        "#21-30 Answer: A\n",
        "\n",
        "def f1():\n",
        "    x=15\n",
        "    print(x)\n",
        "x=12\n",
        "f1()"
      ],
      "metadata": {
        "colab": {
          "base_uri": "https://localhost:8080/"
        },
        "id": "OSin7GU3UgVg",
        "outputId": "6a772647-6f66-4ec2-fa21-d8b325c0b1ff"
      },
      "execution_count": 3,
      "outputs": [
        {
          "output_type": "stream",
          "name": "stdout",
          "text": [
            "15\n"
          ]
        }
      ]
    },
    {
      "cell_type": "code",
      "source": [
        "#31-40 Answer:B\n",
        "\n",
        "class Person():\n",
        "  def __init__(self):\n",
        "    self.__name = \"Default Name\"\n",
        "\n",
        "person1= Person()\n",
        "print(self.__name)"
      ],
      "metadata": {
        "colab": {
          "base_uri": "https://localhost:8080/",
          "height": 176
        },
        "id": "cwV7IoSpUwoR",
        "outputId": "374b132e-2760-4be2-fcdf-8cf217ef0e2f"
      },
      "execution_count": 9,
      "outputs": [
        {
          "output_type": "error",
          "ename": "NameError",
          "evalue": "name 'self' is not defined",
          "traceback": [
            "\u001b[0;31m---------------------------------------------------------------------------\u001b[0m",
            "\u001b[0;31mNameError\u001b[0m                                 Traceback (most recent call last)",
            "\u001b[0;32m<ipython-input-9-ade8ac355ed7>\u001b[0m in \u001b[0;36m<cell line: 0>\u001b[0;34m()\u001b[0m\n\u001b[1;32m      6\u001b[0m \u001b[0;34m\u001b[0m\u001b[0m\n\u001b[1;32m      7\u001b[0m \u001b[0mperson1\u001b[0m\u001b[0;34m=\u001b[0m \u001b[0mPerson\u001b[0m\u001b[0;34m(\u001b[0m\u001b[0;34m)\u001b[0m\u001b[0;34m\u001b[0m\u001b[0;34m\u001b[0m\u001b[0m\n\u001b[0;32m----> 8\u001b[0;31m \u001b[0mprint\u001b[0m\u001b[0;34m(\u001b[0m\u001b[0mself\u001b[0m\u001b[0;34m.\u001b[0m\u001b[0m__name\u001b[0m\u001b[0;34m)\u001b[0m\u001b[0;34m\u001b[0m\u001b[0;34m\u001b[0m\u001b[0m\n\u001b[0m",
            "\u001b[0;31mNameError\u001b[0m: name 'self' is not defined"
          ]
        }
      ]
    },
    {
      "cell_type": "code",
      "source": [
        "#41-60 Answer:A\n",
        "\n",
        "class Person():\n",
        "  def __init__(self):\n",
        "    self.__name = \"Default Name\"\n",
        "\n",
        "person1= Person()\n",
        "person2 = Person()\n",
        "print(person1)\n",
        "print(person2)"
      ],
      "metadata": {
        "colab": {
          "base_uri": "https://localhost:8080/"
        },
        "id": "CpzUxSY-VJYx",
        "outputId": "f16942db-b5c8-4402-d6d7-19eb4b86ca0e"
      },
      "execution_count": 8,
      "outputs": [
        {
          "output_type": "stream",
          "name": "stdout",
          "text": [
            "<__main__.Person object at 0x7c16d19a5350>\n",
            "<__main__.Person object at 0x7c16d23eaa50>\n"
          ]
        }
      ]
    },
    {
      "cell_type": "code",
      "source": [
        "#61-80 Answer:A\n",
        "\n",
        "class Student():\n",
        "  def __init__(self, student_number, name):\n",
        "    self.stu_number= student_number\n",
        "    self.stu_name= name\n",
        "\n",
        "class DSCOfficer(Student):\n",
        "  def __init__(self, department):\n",
        "    self.department= department\n",
        "    self.event_list= []\n",
        "\n",
        "  def initiateEvent(self, name):\n",
        "    self.event_list.append({\"name\":name})\n",
        "\n",
        "officer1 = DSCOfficer(\"CpE\")\n",
        "officer1.initiateEvent(\"General Assembly\")\n",
        "print(officer1.event_list)"
      ],
      "metadata": {
        "colab": {
          "base_uri": "https://localhost:8080/"
        },
        "id": "XtjXas5nVv6R",
        "outputId": "22f6008e-573b-4e75-bc79-54f4c884afbd"
      },
      "execution_count": 15,
      "outputs": [
        {
          "output_type": "stream",
          "name": "stdout",
          "text": [
            "[{'name': 'General Assembly'}]\n"
          ]
        }
      ]
    },
    {
      "cell_type": "markdown",
      "source": [
        "81-82 Answer: A\n",
        "\n",
        "83-84 Answer: A\n",
        "\n",
        "85-86 Answer: A\n",
        "\n",
        "87-88 Answer: A\n",
        "\n",
        "89-90 Answer: A\n",
        "\n",
        "91-92 Answer: A\n",
        "\n",
        "93-94 Answer: C\n",
        "\n",
        "95-96 Answer: C\n",
        "\n",
        "97-98 Answer: A\n",
        "\n",
        "99-100 Answer: A\n",
        "\n"
      ],
      "metadata": {
        "id": "_3Fy2Y7ndwma"
      }
    },
    {
      "cell_type": "code",
      "source": [],
      "metadata": {
        "id": "wgEC2FJ3ek-0"
      },
      "execution_count": null,
      "outputs": []
    }
  ]
}