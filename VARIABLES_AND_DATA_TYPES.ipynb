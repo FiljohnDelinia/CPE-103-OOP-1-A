{
  "nbformat": 4,
  "nbformat_minor": 0,
  "metadata": {
    "colab": {
      "provenance": [],
      "authorship_tag": "ABX9TyM3mBHSPEe06VwBwoYtyuGy",
      "include_colab_link": true
    },
    "kernelspec": {
      "name": "python3",
      "display_name": "Python 3"
    },
    "language_info": {
      "name": "python"
    }
  },
  "cells": [
    {
      "cell_type": "markdown",
      "metadata": {
        "id": "view-in-github",
        "colab_type": "text"
      },
      "source": [
        "<a href=\"https://colab.research.google.com/github/FiljohnDelinia/CPE-103-OOP-1-A/blob/main/VARIABLES_AND_DATA_TYPES.ipynb\" target=\"_parent\"><img src=\"https://colab.research.google.com/assets/colab-badge.svg\" alt=\"Open In Colab\"/></a>"
      ]
    },
    {
      "cell_type": "markdown",
      "source": [
        "PYTHON USES FIVE STANDARD DATA TYPES:"
      ],
      "metadata": {
        "id": "gMshLD-bz515"
      }
    },
    {
      "cell_type": "code",
      "source": [
        "#NUMBERS\n",
        "varNum=123\n",
        "pi=3.14159\n",
        "\n",
        "#STRINGS\n",
        "varString=\"Hello World!\"\n",
        "varText='This is a String'\n",
        "\n",
        "#LISTS\n",
        "varList= [\"abc\", 123]\n",
        "\n",
        "#TUPLES\n",
        "varTuple= ('abc', 123, \"HELLO\")\n",
        "\n",
        "#DICTIONARIES\n",
        "var=3\n",
        "varDict={'first':1, '2':'2nd', 3:var}\n",
        "\n",
        "varDict= {}\n",
        "varDict['first']=1\n",
        "varDict['2']='2nd'\n",
        "varDict[3]=var"
      ],
      "metadata": {
        "id": "_zlp5Cd00MeC"
      },
      "execution_count": 2,
      "outputs": []
    },
    {
      "cell_type": "markdown",
      "source": [
        "ARITHMETIC"
      ],
      "metadata": {
        "id": "6q8oBzEa2wvf"
      }
    },
    {
      "cell_type": "code",
      "source": [
        "#ADDITION\n",
        "a=5+3\n",
        "print(a)\n",
        "\n",
        "#SUBTRACTION\n",
        "a=5-3\n",
        "print(a)\n",
        "\n",
        "#MULTIPLICATION\n",
        "a=5*3\n",
        "print(a)\n",
        "\n",
        "#EXPONENT\n",
        "a=5**3\n",
        "print(a)\n",
        "\n",
        "#DIVISION\n",
        "a=5/3\n",
        "print(a)\n",
        "b=5%3\n",
        "print(b)\n",
        "c=5//3\n",
        "print(c)\n",
        "\n",
        "#INCREMENT/DECREMENT\n",
        "a=5\n",
        "a+=1\n",
        "print(a)\n",
        "\n",
        "#DECREMENT\n",
        "a=5\n",
        "a-=1\n",
        "print(a)\n",
        "\n",
        "#STRING CONCATENATION\n",
        "a='Hello'+' World!'\n",
        "print(a)\n",
        "\n",
        "#COMPLEX EXPRESSIONS\n",
        "a=3+5-6*2/4\n",
        "print(a)"
      ],
      "metadata": {
        "colab": {
          "base_uri": "https://localhost:8080/"
        },
        "id": "TZcYEjvC2zyx",
        "outputId": "7c760f29-43ac-4999-8e1a-a82e665e7d46"
      },
      "execution_count": 13,
      "outputs": [
        {
          "output_type": "stream",
          "name": "stdout",
          "text": [
            "8\n",
            "2\n",
            "15\n",
            "125\n",
            "1.6666666666666667\n",
            "2\n",
            "1\n",
            "6\n",
            "4\n",
            "Hello World!\n",
            "5.0\n"
          ]
        }
      ]
    },
    {
      "cell_type": "markdown",
      "source": [
        "CONDITIONAL STATEMENTS"
      ],
      "metadata": {
        "id": "VTCQqtJI4mFo"
      }
    },
    {
      "cell_type": "code",
      "source": [
        "#BOOLEAN CONDITIONS\n",
        "x=True\n",
        "\n",
        "if x:\n",
        "    print(\"var is True\")\n",
        "else:\n",
        "    print(\"var is False\")\n",
        "\n",
        "#STRING CONDITIONS\n",
        "x=\"Hello World!\"\n",
        "\n",
        "if x== 'Hello World!':\n",
        "    print(\"var x is Hello World!\")\n",
        "else:\n",
        "    print(\"var x is not Hello World!\")\n",
        "\n",
        "#NUMERIC CONDITIONS\n",
        "x=10\n",
        "\n",
        "if x=='10':\n",
        "    print(\"var x is a string\")\n",
        "elif x == 10:\n",
        "    print(\"var x is an integer\")\n",
        "else:\n",
        "    print(\"var x is none of the above\")"
      ],
      "metadata": {
        "colab": {
          "base_uri": "https://localhost:8080/"
        },
        "id": "p2deA_Ja4s5J",
        "outputId": "f1946eeb-3c12-4573-a56b-c4a19ff82922"
      },
      "execution_count": 16,
      "outputs": [
        {
          "output_type": "stream",
          "name": "stdout",
          "text": [
            "var is True\n",
            "var x is Hello World!\n",
            "var x is an integer\n"
          ]
        }
      ]
    },
    {
      "cell_type": "markdown",
      "source": [
        "LOOPS"
      ],
      "metadata": {
        "id": "TfjACNmW5xYs"
      }
    },
    {
      "cell_type": "code",
      "source": [
        "#FOR LOOPS\n",
        "for var in range(0,5,2):\n",
        "    print(var)\n",
        "\n",
        "#WHILE LOOPS\n",
        "var=0\n",
        "while var<5:\n",
        "    print(var)\n",
        "    var+=2\n",
        "\n",
        "#NESTED LOOPS\n",
        "x=0\n",
        "while x<5:\n",
        "    for y in range (0,x):\n",
        "        print(y,end='')\n",
        "    x += 1\n",
        "    print()"
      ],
      "metadata": {
        "colab": {
          "base_uri": "https://localhost:8080/"
        },
        "collapsed": true,
        "id": "hiNS15TN51l8",
        "outputId": "4d74ad70-361d-4fb6-eae9-07b427cd8a41"
      },
      "execution_count": 31,
      "outputs": [
        {
          "output_type": "stream",
          "name": "stdout",
          "text": [
            "0\n",
            "2\n",
            "4\n",
            "0\n",
            "2\n",
            "4\n",
            "\n",
            "0\n",
            "01\n",
            "012\n",
            "0123\n"
          ]
        }
      ]
    },
    {
      "cell_type": "markdown",
      "source": [
        "FUNCTIONS"
      ],
      "metadata": {
        "id": "0IEA1AQt7A6h"
      }
    },
    {
      "cell_type": "code",
      "source": [
        "#def function_name:\n",
        "      #commands\n",
        "\n",
        "def remainder(n,m):\n",
        "    while True:\n",
        "        if n-m<0:\n",
        "            return n\n",
        "        else:\n",
        "            n=n-m\n",
        "\n",
        "remainder(10,4)"
      ],
      "metadata": {
        "colab": {
          "base_uri": "https://localhost:8080/"
        },
        "id": "jjQIvtqC7CoZ",
        "outputId": "73afa306-da97-41db-e7d9-381376ed6070"
      },
      "execution_count": 40,
      "outputs": [
        {
          "output_type": "execute_result",
          "data": {
            "text/plain": [
              "2"
            ]
          },
          "metadata": {},
          "execution_count": 40
        }
      ]
    },
    {
      "cell_type": "markdown",
      "source": [
        "LISTS"
      ],
      "metadata": {
        "id": "FkIezXpD7gL5"
      }
    },
    {
      "cell_type": "code",
      "source": [
        "pi=3.14159\n",
        "varList=[1,2,'A','B', 'Hello!', pi]\n",
        "print(varList[0])\n",
        "\n",
        "print(varList[4])\n",
        "\n",
        "varList.append('World!')\n",
        "print(varList[6])\n",
        "\n",
        "len(varList)\n",
        "\n",
        "print(varList[5])\n",
        "\n",
        "varList.remove(pi)\n",
        "print(varList[5])"
      ],
      "metadata": {
        "colab": {
          "base_uri": "https://localhost:8080/"
        },
        "id": "v11iLqnV7hSC",
        "outputId": "52561cde-3544-4b21-ac10-6f87fa07ea09"
      },
      "execution_count": 42,
      "outputs": [
        {
          "output_type": "stream",
          "name": "stdout",
          "text": [
            "1\n",
            "Hello!\n",
            "World!\n",
            "3.14159\n",
            "World!\n"
          ]
        }
      ]
    },
    {
      "cell_type": "markdown",
      "source": [
        "DICTIONARIES"
      ],
      "metadata": {
        "id": "Q9z33xGz9IQZ"
      }
    },
    {
      "cell_type": "code",
      "source": [
        "var=\"Hello World!\"\n",
        "varDict={'first':123,2:'abc','3':var,4:['lista','listb']}\n",
        "print(varDict['first'])\n",
        "\n",
        "print(varDict[2])\n",
        "\n",
        "print(varDict['3'])\n",
        "\n",
        "print(varDict[4])\n",
        "\n",
        "print(varDict[4][1])\n",
        "\n",
        "len(varDict)\n"
      ],
      "metadata": {
        "colab": {
          "base_uri": "https://localhost:8080/"
        },
        "id": "mXb5Jw6g9Js5",
        "outputId": "06db25a0-2745-466e-97ff-a3b38616898b"
      },
      "execution_count": 48,
      "outputs": [
        {
          "output_type": "stream",
          "name": "stdout",
          "text": [
            "123\n",
            "abc\n",
            "Hello World!\n",
            "['lista', 'listb']\n",
            "listb\n"
          ]
        },
        {
          "output_type": "execute_result",
          "data": {
            "text/plain": [
              "4"
            ]
          },
          "metadata": {},
          "execution_count": 48
        }
      ]
    },
    {
      "cell_type": "markdown",
      "source": [
        "LIST GENERATORS AND COMPREHENSION"
      ],
      "metadata": {
        "id": "T8d6fCx0-K_J"
      }
    },
    {
      "cell_type": "code",
      "source": [
        "def gen_num_up_to(n):\n",
        "    num=0\n",
        "    while num<n:\n",
        "        yield num\n",
        "        num +=1\n",
        "\n",
        "gen_num_up_to(5)\n",
        "\n",
        "varList=gen_num_up_to(5)\n",
        "print([var for var in varList])"
      ],
      "metadata": {
        "colab": {
          "base_uri": "https://localhost:8080/"
        },
        "id": "YAxBgKer-Omx",
        "outputId": "4a7c9957-1465-4070-95af-5ad60ad25f2a"
      },
      "execution_count": 70,
      "outputs": [
        {
          "output_type": "stream",
          "name": "stdout",
          "text": [
            "[0, 1, 2, 3, 4]\n"
          ]
        }
      ]
    },
    {
      "source": [
        "def gen_num_up_to(n):\n",
        "    num=0\n",
        "    while num<n:\n",
        "        yield num\n",
        "        num +=2\n",
        "\n",
        "varList=gen_num_up_to(5)\n",
        "print([var for var in varList])\n",
        "\n",
        "varList=range(0,5,2)\n",
        "print([var for var in varlist])"
      ],
      "cell_type": "code",
      "metadata": {
        "colab": {
          "base_uri": "https://localhost:8080/"
        },
        "id": "ciSGqDlp__vr",
        "outputId": "04c09ce2-ef81-493e-83d7-579ce146fb61"
      },
      "execution_count": 71,
      "outputs": [
        {
          "output_type": "stream",
          "name": "stdout",
          "text": [
            "[0, 2, 4]\n",
            "[0, 2, 4]\n"
          ]
        }
      ]
    },
    {
      "cell_type": "markdown",
      "source": [
        "SLICING"
      ],
      "metadata": {
        "id": "t9GXs3OtAcB7"
      }
    },
    {
      "cell_type": "code",
      "source": [
        "varList=[1,2,3,4,5,6,7,8,9,10]\n",
        "print(varList[:5])\n",
        "\n",
        "print(varList[5:])\n",
        "\n",
        "print(varList[:-2])\n",
        "\n",
        "print(varList[-2:])\n",
        "\n",
        "print(varList[2:-2])\n",
        "\n",
        "print(varList[2:8:2])"
      ],
      "metadata": {
        "colab": {
          "base_uri": "https://localhost:8080/"
        },
        "id": "fLpgS7oSAdMS",
        "outputId": "d0dc8413-9202-45b0-98c6-07f1b89652a9"
      },
      "execution_count": 73,
      "outputs": [
        {
          "output_type": "stream",
          "name": "stdout",
          "text": [
            "[1, 2, 3, 4, 5]\n",
            "[6, 7, 8, 9, 10]\n",
            "[1, 2, 3, 4, 5, 6, 7, 8]\n",
            "[9, 10]\n",
            "[3, 4, 5, 6, 7, 8]\n",
            "[3, 5, 7]\n"
          ]
        }
      ]
    }
  ]
}